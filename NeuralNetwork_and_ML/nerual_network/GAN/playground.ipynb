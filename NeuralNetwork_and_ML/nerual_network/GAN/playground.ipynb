{
 "cells": [
  {
   "cell_type": "markdown",
   "metadata": {},
   "source": [
    "Shuffle, batch的作用\n",
    "> https://zhuanlan.zhihu.com/p/42417456\n",
    "> https://blog.csdn.net/QLBFA/article/details/108143449\n",
    "\n",
    "**Shuffle: for perfect shuffling, a buffer size greater than or equal to the full size of the dataset is required.**\n",
    "\n",
    "A `tf.Tensor` represents a multidimensional array of elements."
   ]
  },
  {
   "cell_type": "code",
   "execution_count": 48,
   "metadata": {},
   "outputs": [
    {
     "name": "stdout",
     "output_type": "stream",
     "text": [
      "tf.Tensor([5 2], shape=(2,), dtype=int64)\n",
      "tf.Tensor([6 3], shape=(2,), dtype=int64)\n",
      "tf.Tensor([1 4], shape=(2,), dtype=int64)\n"
     ]
    },
    {
     "data": {
      "text/plain": [
       "tensorflow.python.framework.tensor.Tensor"
      ]
     },
     "execution_count": 48,
     "metadata": {},
     "output_type": "execute_result"
    }
   ],
   "source": [
    "import tensorflow as tf\n",
    "import numpy as np\n",
    "\n",
    "test = tf.data.Dataset.from_tensor_slices(np.array([1, 2, 3, 4, 5, 6]))\n",
    "batchs = test.shuffle(6).batch(2)\n",
    "for i in batchs: print(i)"
   ]
  },
  {
   "cell_type": "markdown",
   "metadata": {},
   "source": [
    "Sequential 顺序模型\n",
    "> https://keras.io/zh/getting-started/sequential-model-guide/"
   ]
  },
  {
   "cell_type": "markdown",
   "metadata": {},
   "source": [
    "HardMax 求最大值 非黑即白\n",
    "SoftMax Softmax的含义在于不再唯一的确定某一个最大值，而是为每个输出分类的结果都赋予一个概率值，表示属于每个类别的可能性  \n",
    "-> a in arr(length:C), softmax(a) = a / SUM_ALL(Exp(v), v in arr)\n",
    "> https://zhuanlan.zhihu.com/p/105722023  \n",
    "\n",
    "使用反向传播求解梯度进而使用梯度下降进行参数更新  \n",
    "\n",
    "> 交叉熵 https://zhuanlan.zhihu.com/p/149186719"
   ]
  },
  {
   "cell_type": "code",
   "execution_count": 78,
   "metadata": {},
   "outputs": [
    {
     "name": "stdout",
     "output_type": "stream",
     "text": [
      "5\n",
      "tf.Tensor(5, shape=(), dtype=int32)\n",
      "tf.Tensor([0.06666667 0.13333333 0.2        0.26666667 0.33333333], shape=(5,), dtype=float64)\n",
      "tf.Tensor([0.01165623 0.03168492 0.08612854 0.23412165 0.6364086 ], shape=(5,), dtype=float32)\n",
      "tf.Tensor([0.01165623 0.03168492 0.08612853 0.23412165 0.6364086 ], shape=(5,), dtype=float32)\n"
     ]
    }
   ],
   "source": [
    "# HardMax\n",
    "import numpy as np\n",
    "\n",
    "arr = np.array([1, 2, 3, 4, 5])\n",
    "print(np.max(arr))\n",
    "\n",
    "# HardMax\n",
    "import tensorflow as tf\n",
    "\n",
    "max = tf.reduce_max([1, 2, 3, 4, 5])\n",
    "print(max)\n",
    "\n",
    "# SoftMax 不使用指数\n",
    "softmax = arr / tf.reduce_sum(arr)\n",
    "print(softmax)\n",
    "\n",
    "# SoftMax 使用指数\n",
    "arr = tf.constant(arr, dtype=tf.float32)\n",
    "softmax = tf.exp(arr) / tf.reduce_sum(tf.exp(arr))\n",
    "\n",
    "print(softmax)\n",
    "print(tf.nn.softmax(arr))"
   ]
  },
  {
   "cell_type": "markdown",
   "metadata": {},
   "source": [
    "One hot 编码 -> 分类特征数字化"
   ]
  },
  {
   "cell_type": "markdown",
   "metadata": {},
   "source": [
    "梯度下降 逻辑回归 支持向量机SVM 交叉熵  \n",
    "https://zhuanlan.zhihu.com/p/74874291"
   ]
  },
  {
   "cell_type": "code",
   "execution_count": 1,
   "metadata": {},
   "outputs": [
    {
     "name": "stderr",
     "output_type": "stream",
     "text": [
      "2023-11-14 10:42:56.746827: I metal_plugin/src/device/metal_device.cc:1154] Metal device set to: Apple M2 Pro\n",
      "2023-11-14 10:42:56.746850: I metal_plugin/src/device/metal_device.cc:296] systemMemory: 16.00 GB\n",
      "2023-11-14 10:42:56.746855: I metal_plugin/src/device/metal_device.cc:313] maxCacheSize: 5.33 GB\n",
      "2023-11-14 10:42:56.746890: I tensorflow/core/common_runtime/pluggable_device/pluggable_device_factory.cc:306] Could not identify NUMA node of platform GPU ID 0, defaulting to 0. Your kernel may not have been built with NUMA support.\n",
      "2023-11-14 10:42:56.746907: I tensorflow/core/common_runtime/pluggable_device/pluggable_device_factory.cc:272] Created TensorFlow device (/job:localhost/replica:0/task:0/device:GPU:0 with 0 MB memory) -> physical PluggableDevice (device: 0, name: METAL, pci bus id: <undefined>)\n"
     ]
    },
    {
     "data": {
      "text/plain": [
       "(None, 32)"
      ]
     },
     "execution_count": 1,
     "metadata": {},
     "output_type": "execute_result"
    }
   ],
   "source": [
    "# Sequential Model\n",
    "import tensorflow as tf\n",
    "\n",
    "# Create a `Sequential` model and add a Dense layer as the first layer.\n",
    "model = tf.keras.models.Sequential()\n",
    "model.add(tf.keras.Input(shape=(16,)))\n",
    "model.add(tf.keras.layers.Dense(32, activation='relu'))\n",
    "# Now the model will take as input arrays of shape (None, 16)\n",
    "# and output arrays of shape (None, 32).\n",
    "# Note that after the first layer, you don't need to specify\n",
    "# the size of the input anymore:\n",
    "model.add(tf.keras.layers.Dense(32))\n",
    "model.output_shape\n",
    "(None, 32)"
   ]
  },
  {
   "cell_type": "code",
   "execution_count": 6,
   "metadata": {},
   "outputs": [
    {
     "name": "stdout",
     "output_type": "stream",
     "text": [
      "tf.Tensor(\n",
      "[[0.9 0.9 0.9]\n",
      " [0.9 0.9 0.9]], shape=(2, 3), dtype=float32)\n",
      "tf.Tensor(\n",
      "[[0. 0. 0.]\n",
      " [0. 0. 0.]], shape=(2, 3), dtype=float32)\n"
     ]
    }
   ],
   "source": [
    "import tensorflow as tf\n",
    "\n",
    "tensor = tf.constant([[0, 2, 3], [4, 5, 6]], dtype=tf.float32)\n",
    "print(0.9 * tf.ones_like(tensor))\n",
    "print(tf.zeros_like(tensor))"
   ]
  },
  {
   "cell_type": "code",
   "execution_count": 7,
   "metadata": {},
   "outputs": [
    {
     "data": {
      "text/plain": [
       "'2.14.0'"
      ]
     },
     "execution_count": 7,
     "metadata": {},
     "output_type": "execute_result"
    }
   ],
   "source": [
    "tf.__version__"
   ]
  },
  {
   "cell_type": "code",
   "execution_count": 11,
   "metadata": {},
   "outputs": [
    {
     "data": {
      "text/plain": [
       "tensorflow.python.eager.polymorphic_function.polymorphic_function.Function"
      ]
     },
     "execution_count": 11,
     "metadata": {},
     "output_type": "execute_result"
    }
   ],
   "source": [
    "@tf.function\n",
    "def add(a, b):\n",
    "    return a + b\n",
    "\n",
    "\n",
    "add(tf.constant([1, 2, 4],dtype=tf.float32),\n",
    "    tf.constant([3, 4, 5],dtype=tf.float32))\n",
    "\n",
    "type(add)"
   ]
  },
  {
   "cell_type": "code",
   "execution_count": 14,
   "metadata": {},
   "outputs": [
    {
     "data": {
      "text/plain": [
       "<tf.Tensor: shape=(5, 100), dtype=float32, numpy=\n",
       "array([[-1.3544159 ,  0.7045493 ,  0.03666191,  0.86918795,  0.43842277,\n",
       "        -0.53439844, -0.07710292,  1.5658046 , -0.1012345 , -0.2744975 ,\n",
       "         1.420466  ,  1.2609465 , -0.4364091 , -1.963399  , -0.06452482,\n",
       "        -1.056841  ,  1.0019135 ,  0.6735137 ,  0.06987705, -1.4077919 ,\n",
       "         1.0278524 ,  0.2797411 , -0.01347954,  1.8451811 ,  0.9706112 ,\n",
       "        -1.0242516 , -0.6544423 , -0.29738778, -1.3240397 ,  0.28785658,\n",
       "        -0.87579006, -0.08856997,  0.6921164 ,  0.842157  , -0.06378508,\n",
       "         0.9280078 , -0.6039788 , -0.17669262,  0.04221032,  0.29037958,\n",
       "        -0.2960446 , -0.21134192,  0.01063002,  1.5165399 ,  0.27305746,\n",
       "        -0.29925638, -0.36523244,  0.61883324, -1.0130817 ,  0.28291693,\n",
       "         1.2132235 ,  0.46988976,  0.37944326, -0.66640246,  0.60545963,\n",
       "         0.19181171,  0.80458266,  0.47690514, -0.7812124 , -0.996891  ,\n",
       "         0.3314997 , -0.5445253 ,  1.5222509 ,  0.593032  , -0.63509274,\n",
       "         0.3703566 , -1.0939722 , -0.46014464,  1.5420506 , -0.16822565,\n",
       "        -0.43908644, -0.41292417,  0.35877225, -1.9095895 , -0.20947677,\n",
       "         0.82862175, -0.06695069, -0.3510553 ,  1.0884084 , -1.3863064 ,\n",
       "         0.88051337, -1.6833196 ,  0.8675417 , -0.19625714, -1.322665  ,\n",
       "        -0.02279517, -0.13831933,  0.44207522, -0.75315255,  2.0261483 ,\n",
       "        -0.0699762 ,  0.8544514 ,  0.11754729,  0.03493885, -1.5700307 ,\n",
       "         0.44575822,  0.10944042, -0.80357677, -1.716673  ,  0.3738578 ],\n",
       "       [-0.14371015, -0.3464683 ,  1.1456194 , -0.41600007,  0.43369913,\n",
       "         1.0241015 , -0.7478518 , -0.5909091 , -1.2060373 ,  0.83074284,\n",
       "         1.0951619 ,  1.3672234 , -0.5453212 ,  1.9302733 , -0.31514528,\n",
       "        -0.8761205 , -2.7316678 , -0.15730871,  1.369292  , -0.43678337,\n",
       "         0.8357486 ,  0.20849547,  1.4040178 , -2.7352831 ,  1.223223  ,\n",
       "        -1.865369  ,  0.00511216, -1.0493753 ,  0.7901182 ,  1.585549  ,\n",
       "         0.43562782,  0.23645179, -0.15898721,  1.3023041 ,  0.9592239 ,\n",
       "         0.85874265, -1.5181773 ,  1.4020644 ,  1.5570306 , -0.9676218 ,\n",
       "         0.49529105, -0.6484841 , -1.8700892 ,  2.7830637 , -0.645002  ,\n",
       "         0.18022096, -0.14656264,  0.34374255,  0.41367546,  0.17573494,\n",
       "        -1.0871263 ,  0.45905155,  0.2038601 ,  0.56202406, -2.3001142 ,\n",
       "        -1.3494543 ,  0.8148501 ,  1.2790666 ,  0.02203509,  1.5428121 ,\n",
       "         0.78953624,  0.53897345, -0.48535702,  0.7405527 ,  0.31662658,\n",
       "        -1.4391748 ,  0.58923846, -1.4268047 , -0.75658023, -0.06854693,\n",
       "         0.07595028, -1.2573844 , -0.23193759, -1.8107857 ,  0.09988729,\n",
       "        -0.5099865 , -0.75358063, -0.5716628 ,  0.14807744, -0.23362993,\n",
       "        -0.35227957,  0.40621278, -1.0523509 ,  1.2054598 ,  1.687449  ,\n",
       "        -0.44629765, -2.341084  ,  0.9900914 , -0.08763231, -0.63556796,\n",
       "        -0.61617357, -1.9441465 , -0.48293006, -0.5244748 , -1.0345329 ,\n",
       "         1.3066902 , -1.5184574 , -0.45852086,  0.5714664 , -1.5331721 ],\n",
       "       [ 0.45331386,  1.1487608 , -1.2659091 , -0.47450116,  2.006022  ,\n",
       "         0.28288034, -0.30288237, -1.4436511 ,  1.0034494 ,  0.20857754,\n",
       "         0.35701   ,  1.0648886 ,  1.2432485 , -2.2173238 ,  0.1870624 ,\n",
       "         0.66179603,  0.01380116, -0.24827121,  1.2111493 , -0.7199123 ,\n",
       "        -0.0408232 ,  2.6791053 ,  1.0914805 ,  0.33149612, -0.6795891 ,\n",
       "         0.44723687, -0.17811583,  0.24882506,  0.49689844,  0.8259971 ,\n",
       "         1.0340209 , -0.24918637, -1.5780283 , -0.92161775,  0.26867604,\n",
       "         0.9418312 , -0.9465719 , -0.7108357 ,  1.2995543 , -0.6149067 ,\n",
       "        -1.4713507 , -0.10086845,  0.9603877 , -1.6370124 ,  0.17664969,\n",
       "        -0.6703872 , -0.5034551 , -1.2037921 , -2.52556   ,  0.0508098 ,\n",
       "         1.721206  , -0.6575124 ,  0.79394424,  1.3212337 ,  0.345848  ,\n",
       "        -0.66993284,  0.46042565,  0.51493293, -0.06519881, -1.4425222 ,\n",
       "        -0.4849253 , -1.8364044 ,  0.91463274,  0.51454026,  0.5517507 ,\n",
       "        -0.37410986, -0.2870994 ,  1.5089896 , -0.14833741, -1.2846565 ,\n",
       "         0.5484313 ,  0.10596128,  0.21793833,  0.7063838 , -0.1921913 ,\n",
       "         1.139028  ,  0.29164317,  1.4531525 , -0.8223834 , -1.3446562 ,\n",
       "        -0.7183838 , -0.20373917,  0.6291726 , -0.87623334, -0.5923523 ,\n",
       "         0.05643513, -0.16983493, -1.096561  ,  0.21116936, -0.41692957,\n",
       "         0.778911  ,  0.39689952, -1.1513816 ,  0.65339273,  1.2390149 ,\n",
       "         0.8852658 , -0.6700807 , -1.5614098 ,  0.67866147, -1.0733451 ],\n",
       "       [-0.06093799, -0.99516404,  0.7279114 ,  1.3452563 ,  0.8925581 ,\n",
       "         0.54797494, -0.9483233 , -0.14723092, -0.3514068 ,  0.47631496,\n",
       "         0.5269647 ,  0.7645015 , -1.4084328 , -1.8613013 ,  1.0928144 ,\n",
       "        -0.29996353, -0.7382551 ,  1.2053189 , -0.35114336,  0.13897078,\n",
       "         0.32744756, -0.3579723 ,  1.230323  , -0.13087006, -0.44519436,\n",
       "         0.9551449 ,  0.24270566, -0.02293013, -0.97063404, -0.7102748 ,\n",
       "         0.49394783,  2.1883757 , -0.49539253, -0.7584407 ,  0.13736528,\n",
       "        -0.4419888 , -0.6564125 , -2.2867968 ,  0.07126775,  2.3546815 ,\n",
       "         2.2539535 , -0.85103065,  0.8119972 ,  2.0856276 ,  0.4511749 ,\n",
       "        -0.90232205, -1.5350153 ,  0.18753813,  0.01724746,  1.071573  ,\n",
       "         0.32903498, -0.12147249, -0.8116853 ,  1.0684563 ,  0.03192342,\n",
       "         0.37305441,  0.6732108 , -0.3633602 , -0.42805165,  0.16644214,\n",
       "         0.71163535,  0.20890732, -0.25753433, -0.5998104 , -1.7857927 ,\n",
       "         0.00448225,  0.1621861 , -2.2107327 , -0.89728504,  1.1708899 ,\n",
       "        -0.7023461 ,  0.5083067 ,  0.00482752,  2.1229115 , -0.8137167 ,\n",
       "        -0.43226513,  0.02657831, -1.0271724 ,  0.7865557 ,  0.28071532,\n",
       "         1.5479943 , -0.62931514,  1.177553  ,  0.49572596, -0.02589318,\n",
       "         1.1928992 ,  1.7263641 ,  0.715138  , -1.0779939 , -1.1893023 ,\n",
       "         0.0820074 , -0.16774541, -0.17259963, -0.5513396 , -0.24820915,\n",
       "        -0.15571187, -0.9934517 ,  1.4369735 ,  1.1249138 ,  0.77698714],\n",
       "       [-0.90112925, -0.01752143, -0.4188493 ,  0.29532316,  0.08036723,\n",
       "        -1.719968  , -0.6891769 ,  0.22862984, -0.6989134 , -0.11101247,\n",
       "        -0.44537362,  0.1335286 ,  0.12417296,  0.9678509 , -0.35425648,\n",
       "        -0.8899504 ,  0.6247422 , -0.7167875 ,  1.2657576 , -0.04759563,\n",
       "        -0.19674651, -0.7370393 , -0.72737193, -0.7601221 , -0.2631299 ,\n",
       "         0.5424133 , -0.25226602,  0.43689877, -1.5446122 , -0.9279165 ,\n",
       "         1.5999255 , -0.8894289 , -2.2454505 , -0.7396203 , -0.2343236 ,\n",
       "         0.8082243 , -1.2844348 , -1.278413  ,  2.013582  ,  0.78360033,\n",
       "        -0.06117517, -0.07672518, -0.2448566 ,  1.856643  , -0.6776444 ,\n",
       "         0.63947624,  1.4985783 , -1.0064989 , -1.831529  ,  0.4566331 ,\n",
       "        -0.49801955,  1.6521827 , -0.73264664, -0.62772137,  0.23591675,\n",
       "        -0.5297533 ,  0.10415803, -1.655111  ,  0.2027044 , -0.05907414,\n",
       "        -0.0887655 , -0.28188562, -1.2894471 ,  0.9643568 , -0.6036719 ,\n",
       "        -1.0718342 , -1.0722276 , -0.00586279, -0.88051033, -0.32426044,\n",
       "        -2.484708  , -0.26370487, -0.48834   ,  0.8617591 , -1.1694205 ,\n",
       "        -0.5992113 , -1.9464399 ,  0.7705363 , -1.3326514 , -0.38218567,\n",
       "        -1.7661209 ,  1.4853731 ,  0.1531755 ,  0.26729527, -2.3299215 ,\n",
       "         0.2631773 ,  0.5479082 , -0.11180726,  0.82159203,  0.6540846 ,\n",
       "         0.08996332, -2.0736942 ,  0.86738634, -0.2989906 , -0.93103385,\n",
       "        -1.5828488 ,  1.2481191 , -0.67706454,  0.01912649, -0.29333326]],\n",
       "      dtype=float32)>"
      ]
     },
     "execution_count": 14,
     "metadata": {},
     "output_type": "execute_result"
    }
   ],
   "source": [
    "pic_nums = 16\n",
    "noise_dim = 100\n",
    "seed = tf.random.normal((pic_nums,noise_dim))"
   ]
  }
 ],
 "metadata": {
  "kernelspec": {
   "display_name": "NN",
   "language": "python",
   "name": "python3"
  },
  "language_info": {
   "codemirror_mode": {
    "name": "ipython",
    "version": 3
   },
   "file_extension": ".py",
   "mimetype": "text/x-python",
   "name": "python",
   "nbconvert_exporter": "python",
   "pygments_lexer": "ipython3",
   "version": "3.11.5"
  }
 },
 "nbformat": 4,
 "nbformat_minor": 2
}
