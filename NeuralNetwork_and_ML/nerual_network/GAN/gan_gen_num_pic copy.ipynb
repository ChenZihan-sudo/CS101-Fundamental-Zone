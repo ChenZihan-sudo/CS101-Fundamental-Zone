{
 "cells": [
  {
   "cell_type": "code",
   "execution_count": 15,
   "metadata": {},
   "outputs": [
    {
     "name": "stdout",
     "output_type": "stream",
     "text": [
      "[PhysicalDevice(name='/physical_device:GPU:0', device_type='GPU')]\n",
      "(60000, 28, 28) (10000, 28, 28)\n"
     ]
    }
   ],
   "source": [
    "import tensorflow as tf\n",
    "import tensorflow.keras as kr\n",
    "import matplotlib.pyplot as plt\n",
    "import numpy as np\n",
    "from IPython import display\n",
    "\n",
    "physical_device = tf.config.experimental.list_physical_devices(\"GPU\")\n",
    "print(physical_device)\n",
    "\n",
    "# 限制显存使用\n",
    "tf.config.experimental.set_memory_growth(physical_device[0], True)\n",
    "\n",
    "# load data set, need mnist.npz in current work folder\n",
    "with np.load(\"resources/mnist.npz\", allow_pickle=True) as f:\n",
    "    x_train, y_train = f[\"x_train\"], f[\"y_train\"]\n",
    "    x_test, y_test = f[\"x_test\"], f[\"y_test\"]\n",
    "\n",
    "print(x_train.shape, x_test.shape)\n",
    "\n",
    "# 数据重塑至四维 b w h c\n",
    "x_train = np.expand_dims(x_train, axis=-1)\n",
    "x_test = np.expand_dims(x_test, axis=-1)\n",
    "\n",
    "# 数据转换为float32\n",
    "x_train = tf.cast(x_train, tf.float32)\n",
    "x_test = tf.cast(x_test, tf.float32)\n",
    "\n",
    "# 数据集归一到[-1,1]\n",
    "x_train = (x_train - 127.5) / 127.5\n",
    "x_test = (x_test - 127.5) / 127.5"
   ]
  },
  {
   "cell_type": "code",
   "execution_count": 17,
   "metadata": {},
   "outputs": [],
   "source": [
    "# Prepare for datasets\n",
    "BATCH_SIZE = 128\n",
    "SEED_PIC_NUMS = 16\n",
    "NOISE_DIM = 100\n",
    "\n",
    "def gen_datasets():\n",
    "    global datasets, train_round\n",
    "    datasets = (\n",
    "        tf.data.Dataset.from_tensor_slices(x_train)\n",
    "        .shuffle(x_train.shape[0])\n",
    "        .batch(BATCH_SIZE)\n",
    "    )\n",
    "    train_round = tf.math.ceil(x_train.shape[0] / BATCH_SIZE)\n",
    "    train_round = tf.cast(train_round, tf.int32)\n",
    "\n",
    "def generator_model(NOISE_DIM):\n",
    "    model = tf.keras.Sequential()\n",
    "\n",
    "    # When a popular kwarg `input_shape` is passed, then keras will create\n",
    "    # an input layer to insert before the current layer. This can be treated\n",
    "    # equivalent to explicitly defining an `InputLayer`.\n",
    "\n",
    "    model.add(tf.keras.Input(shape=(NOISE_DIM,)))\n",
    "\n",
    "    model.add(tf.keras.layers.Dense(256, use_bias=False))\n",
    "    model.add(tf.keras.layers.BatchNormalization())\n",
    "    model.add(tf.keras.layers.LeakyReLU())\n",
    "\n",
    "    model.add(tf.keras.layers.Dense(512, use_bias=False))\n",
    "    model.add(tf.keras.layers.BatchNormalization())\n",
    "    model.add(tf.keras.layers.LeakyReLU())\n",
    "\n",
    "    model.add(tf.keras.layers.Dense(28 * 28, use_bias=False))\n",
    "    model.add(tf.keras.layers.BatchNormalization())\n",
    "    model.add(tf.keras.layers.Activation('tanh')) #!!! 值域是[-1,1]\n",
    "\n",
    "    model.add(tf.keras.layers.Reshape((28, 28, 1)))\n",
    "    \n",
    "    return model\n",
    "\n",
    "\n",
    "def discrimmer_model():\n",
    "    model = tf.keras.Sequential()\n",
    "\n",
    "    model.add(tf.keras.layers.Flatten())\n",
    "\n",
    "    model.add(tf.keras.layers.Dense(512, use_bias=False))\n",
    "    model.add(tf.keras.layers.BatchNormalization())\n",
    "    model.add(tf.keras.layers.LeakyReLU())\n",
    "\n",
    "    model.add(tf.keras.layers.Dense(256, use_bias=False))\n",
    "    model.add(tf.keras.layers.BatchNormalization())\n",
    "    model.add(tf.keras.layers.LeakyReLU())\n",
    "\n",
    "    model.add(tf.keras.layers.Dense(1))\n",
    "\n",
    "    return model\n",
    "\n",
    "# 损失函数 cross entropy loss 二分类的交叉熵损失 没有经过概率化输出\n",
    "cross_entropy = tf.keras.losses.BinaryCrossentropy(from_logits=True)\n",
    "\n",
    "# 优化器\n",
    "discrimmer_optimzer = tf.keras.optimizers.legacy.Adam(1e-4)\n",
    "generator_optimzer = tf.keras.optimizers.legacy.Adam(1e-4)"
   ]
  },
  {
   "cell_type": "code",
   "execution_count": 18,
   "metadata": {},
   "outputs": [],
   "source": [
    "seed = tf.random.normal((SEED_PIC_NUMS,NOISE_DIM))\n",
    "generator = generator_model(NOISE_DIM)\n",
    "discrimmer = discrimmer_model()"
   ]
  },
  {
   "cell_type": "code",
   "execution_count": 34,
   "metadata": {},
   "outputs": [],
   "source": [
    "# Prepare for checkpoints\n",
    "import os\n",
    "\n",
    "checkpoint = tf.train.Checkpoint(\n",
    "    step=tf.Variable(1),\n",
    "    generator_optimizer=generator_optimzer,\n",
    "    discriminator_optimizer=discrimmer_optimzer,\n",
    "    generator=generator,\n",
    "    discriminator=discrimmer,\n",
    ")\n",
    "checkpoint_dir = \"./checkpoints\"\n",
    "checkpoint_prefix = os.path.join(checkpoint_dir, \"ckpt\")\n",
    "ckpt_manager = tf.train.CheckpointManager(checkpoint, checkpoint_dir, max_to_keep=5)"
   ]
  },
  {
   "cell_type": "code",
   "execution_count": 40,
   "metadata": {},
   "outputs": [],
   "source": [
    "LOSS_FILTER_FATCOR = 0.8  # 损失滤波\n",
    "gen_loss, disc_loss, seed_fake_loss = 0.0, 0.0, 0.0\n",
    "\n",
    "\n",
    "# real -> 1 fake -> 0\n",
    "# 尝试最大化损失\n",
    "def discrimmer_loss(real_out, fake_out):\n",
    "    image_real_loss = cross_entropy(0.9 * tf.ones_like(real_out), real_out)\n",
    "    image_fake_loss = cross_entropy(tf.zeros_like(fake_out), fake_out)\n",
    "    return image_real_loss + image_fake_loss\n",
    "\n",
    "\n",
    "# 尝试最小化损失\n",
    "def generator_loss(fake_out):\n",
    "    return cross_entropy(0.9 * tf.ones_like(fake_out), fake_out)\n",
    "\n",
    "\n",
    "# 输出图像\n",
    "def output_image(seed):\n",
    "    gen_images = generator.call(inputs=seed, training=False)\n",
    "    fake_out = discrimmer.call(inputs=gen_images, training=False)\n",
    "    fake_loss = generator_loss(fake_out)\n",
    "    gen_images = gen_images.numpy()\n",
    "    gen_images = gen_images.reshape(gen_images.shape[0], 28, 28)\n",
    "\n",
    "    plt.figure(figsize=(16, 1))\n",
    "    for i in range(seed.shape[0]):\n",
    "        plt.subplot(1, seed.shape[0], i + 1)\n",
    "        plt.axis(\"off\")\n",
    "        plt.imshow(gen_images[i], cmap=\"binary\")\n",
    "    plt.show()\n",
    "\n",
    "    return fake_loss\n",
    "\n",
    "\n",
    "@tf.function\n",
    "def train_steps(real_images):\n",
    "    # Make some noise images\n",
    "    noise = tf.random.normal((BATCH_SIZE, NOISE_DIM))\n",
    "    with tf.GradientTape() as gen_tape, tf.GradientTape() as disc_tape:\n",
    "        gen_images = generator.call(inputs=noise, training=True)\n",
    "\n",
    "        real_out = discrimmer.call(inputs=real_images, training=True)\n",
    "        fake_out = discrimmer.call(inputs=gen_images, training=True)\n",
    "\n",
    "        disc_loss = discrimmer_loss(real_out, fake_out)\n",
    "        gen_loss = generator_loss(fake_out)\n",
    "\n",
    "    gen_gradient = gen_tape.gradient(gen_loss, generator.trainable_variables)\n",
    "    disc_gradient = disc_tape.gradient(disc_loss, discrimmer.trainable_variables)\n",
    "\n",
    "    # Apply gradient to variables\n",
    "    generator_optimzer.apply_gradients(zip(gen_gradient, generator.trainable_variables))\n",
    "    discrimmer_optimzer.apply_gradients(\n",
    "        zip(disc_gradient, discrimmer.trainable_variables)\n",
    "    )\n",
    "    return [disc_loss, gen_loss]\n",
    "\n",
    "\n",
    "def train(epoches):\n",
    "    if ckpt_manager.latest_checkpoint:\n",
    "        checkpoint.restore(ckpt_manager.latest_checkpoint)\n",
    "        print(\"Restored from {}\".format(ckpt_manager.latest_checkpoint))\n",
    "    else:\n",
    "        print(\"Start training.\")\n",
    "\n",
    "    for e in range(epoches):\n",
    "        print(\"epoch: {}/{}\".format(e + 1, epoches))\n",
    "        i = 0\n",
    "        round_gen_loss, round_disc_loss = 0.0, 0.0\n",
    "        for image in datasets:\n",
    "            i += 1\n",
    "            losses = train_steps(image)\n",
    "            round_gen_loss += losses[0]\n",
    "            round_disc_loss += losses[1]\n",
    "            if i % 20 == 0:\n",
    "                print(\"{}/{}\".format(i, train_round), end=\" \")\n",
    "\n",
    "        checkpoint.step.assign_add(1)\n",
    "\n",
    "        if (e + 1) % 5 == 0:\n",
    "            save_path = ckpt_manager.save()\n",
    "            print(\"Save checkpoint for step {}:{}\".format(int(checkpoint.step), save_path))\n",
    "\n",
    "        print(end=\"\\n\")\n",
    "\n",
    "        global gen_loss, disc_loss, seed_fake_loss\n",
    "        train_round_fl = tf.cast(train_round, tf.float32)\n",
    "        gen_loss = (\n",
    "            LOSS_FILTER_FATCOR * gen_loss\n",
    "            + (1.0 - LOSS_FILTER_FATCOR) * round_gen_loss / train_round_fl\n",
    "        )\n",
    "        disc_loss = ( \n",
    "            LOSS_FILTER_FATCOR * disc_loss\n",
    "            + (1.0 - LOSS_FILTER_FATCOR) * round_disc_loss / train_round_fl\n",
    "        )\n",
    "        seed_fake_loss = LOSS_FILTER_FATCOR * seed_fake_loss + (\n",
    "            1.0 - LOSS_FILTER_FATCOR\n",
    "        ) * output_image(seed)\n",
    "        print(\n",
    "            \"gen_loss:{:.4f}, disc_loss:{:.4f}, total_loss:{:.4f} seed_gen_loss:{:.4f}\".format(\n",
    "                gen_loss, disc_loss, gen_loss + disc_loss, seed_fake_loss\n",
    "            )\n",
    "        )"
   ]
  },
  {
   "cell_type": "code",
   "execution_count": 52,
   "metadata": {},
   "outputs": [
    {
     "data": {
      "image/png": "[encoded data removed]",
      "text/plain": [
       "<Figure size 1600x100 with 16 Axes>"
      ]
     },
     "metadata": {},
     "output_type": "display_data"
    },
    {
     "data": {
      "text/plain": [
       "<tf.Tensor: shape=(), dtype=float32, numpy=1.0800388>"
      ]
     },
     "execution_count": 52,
     "metadata": {},
     "output_type": "execute_result"
    }
   ],
   "source": [
    "output_image(seed)"
   ]
  },
  {
   "cell_type": "code",
   "execution_count": 41,
   "metadata": {},
   "outputs": [
    {
     "name": "stdout",
     "output_type": "stream",
     "text": [
      "./checkpoints/ckpt-52\n"
     ]
    },
    {
     "data": {
      "text/plain": [
       "<tensorflow.python.checkpoint.checkpoint.CheckpointLoadStatus at 0x3532a5450>"
      ]
     },
     "execution_count": 41,
     "metadata": {},
     "output_type": "execute_result"
    }
   ],
   "source": [
    "# Restore from latest checkpoint\n",
    "print(ckpt_manager.latest_checkpoint)\n",
    "checkpoint.restore(ckpt_manager.latest_checkpoint)"
   ]
  }
 ],
 "metadata": {
  "kernelspec": {
   "display_name": "NN",
   "language": "python",
   "name": "python3"
  },
  "language_info": {
   "codemirror_mode": {
    "name": "ipython",
    "version": 3
   },
   "file_extension": ".py",
   "mimetype": "text/x-python",
   "name": "python",
   "nbconvert_exporter": "python",
   "pygments_lexer": "ipython3",
   "version": "3.11.5"
  }
 },
 "nbformat": 4,
 "nbformat_minor": 2
}
