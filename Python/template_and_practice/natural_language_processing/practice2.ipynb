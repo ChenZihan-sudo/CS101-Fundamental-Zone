{
 "cells": [
  {
   "cell_type": "code",
   "execution_count": 11,
   "metadata": {},
   "outputs": [
    {
     "name": "stdout",
     "output_type": "stream",
     "text": [
      "Sum of those number: 15\n"
     ]
    }
   ],
   "source": [
    "# Template\n",
    "x = int(input(\"Input a positive integer\"))\n",
    "sum = 0\n",
    "while x > 0:\n",
    "    sum += x\n",
    "    x = int(input(\"Input a positive integer. Quit input negative one.\"))\n",
    "print(\"Sum of those number:\", sum)"
   ]
  },
  {
   "cell_type": "code",
   "execution_count": 6,
   "metadata": {},
   "outputs": [
    {
     "name": "stdout",
     "output_type": "stream",
     "text": [
      "Sum from 1 to 100 is 5050\n"
     ]
    }
   ],
   "source": [
    "# Get sum from 1 to 100\n",
    "sum = 0\n",
    "for i in range(1, 101):\n",
    "    sum += i\n",
    "print(\"Sum from 1 to 100 is\", sum)"
   ]
  },
  {
   "cell_type": "code",
   "execution_count": 24,
   "metadata": {},
   "outputs": [
    {
     "name": "stdout",
     "output_type": "stream",
     "text": [
      "Number 7 is a prime number.\n"
     ]
    }
   ],
   "source": [
    "# Judge Prime number\n",
    "x = int(input(\"Input a number judge whether a prime or not.\"))\n",
    "\n",
    "flag = 0\n",
    "for i in range(2, x):\n",
    "    if x % i == 0:\n",
    "        flag = 1\n",
    "        break\n",
    "\n",
    "print(\"Number\", end=\" \")\n",
    "if flag == 1:\n",
    "    print(x, \"is not a prime number.\")\n",
    "else:\n",
    "    print(x, \"is a prime number.\")\n"
   ]
  },
  {
   "cell_type": "code",
   "execution_count": 10,
   "metadata": {},
   "outputs": [
    {
     "name": "stdout",
     "output_type": "stream",
     "text": [
      "The number 45 meet the condition.\n",
      "The number 55 meet the condition.\n",
      "The number 99 meet the condition.\n"
     ]
    }
   ],
   "source": [
    "# It is known that the four-digit number 3025 has special properties:\n",
    "# The sum of the first two digits 30 and the last two digits 25 is 55,\n",
    "# And the square of 55 is exactly equal to itself 3025.\n",
    "# Program to enumerate four-digit numbers with this property.\n",
    "\n",
    "for i in range(1000, 10000):\n",
    "    s = str(i)\n",
    "    num = (int(s[:2]) + int(s[2:4]))\n",
    "    if i == num**2:\n",
    "        print(\"The number\", num, \"meet the condition.\")\n"
   ]
  },
  {
   "cell_type": "code",
   "execution_count": 12,
   "metadata": {},
   "outputs": [
    {
     "name": "stdout",
     "output_type": "stream",
     "text": [
      "7 11 14 21 22 28 33 35 42 44 \n",
      "49 55 56 63 66 70 84 88 91 98 \n",
      "99 "
     ]
    }
   ],
   "source": [
    "# Find all integers from 1 to 100 that are divisible by 7 or 11 but not both 7 and 11 and output them.\n",
    "# Maximum 10 numbers per line\n",
    "count = 0\n",
    "for i in range(1, 100):\n",
    "    con1 = i % 7\n",
    "    con2 = i % 11\n",
    "    if (not (con1 and con2)) and (con1 or con2):\n",
    "        print(i, end=\" \")\n",
    "        count += 1\n",
    "    if count == 10:\n",
    "        print(end=\"\\n\")\n",
    "        count = 0\n"
   ]
  },
  {
   "cell_type": "code",
   "execution_count": 1,
   "metadata": {},
   "outputs": [
    {
     "name": "stdout",
     "output_type": "stream",
     "text": [
      "1*1= 1 \n",
      "2*1= 2 2*2= 4 \n",
      "3*1= 3 3*2= 6 3*3= 9 \n",
      "4*1= 4 4*2= 8 4*3=12 4*4=16 \n",
      "5*1= 5 5*2=10 5*3=15 5*4=20 5*5=25 \n",
      "6*1= 6 6*2=12 6*3=18 6*4=24 6*5=30 6*6=36 \n",
      "7*1= 7 7*2=14 7*3=21 7*4=28 7*5=35 7*6=42 7*7=49 \n",
      "8*1= 8 8*2=16 8*3=24 8*4=32 8*5=40 8*6=48 8*7=56 8*8=64 \n",
      "9*1= 9 9*2=18 9*3=27 9*4=36 9*5=45 9*6=54 9*7=63 9*8=72 9*9=81 \n"
     ]
    }
   ],
   "source": [
    "# Output the Chinese multiplication table\n",
    "for i in range(1, 10):\n",
    "    for j in range(1, i + 1):\n",
    "        print(\"%d*%d=%2d\" % (i, j, i * j), end=\" \")\n",
    "    print(end=\"\\n\")"
   ]
  },
  {
   "cell_type": "code",
   "execution_count": 3,
   "metadata": {},
   "outputs": [
    {
     "name": "stdout",
     "output_type": "stream",
     "text": [
      "The number 153 meet the condition\n",
      "The number 370 meet the condition\n",
      "The number 371 meet the condition\n",
      "The number 407 meet the condition\n"
     ]
    }
   ],
   "source": [
    "# Find from all three-digit numbers that the sum of the cubes of each digit number is itself\n",
    "# For instance, 153=1**3+5**3+3**3 is such a number needed.\n",
    "\n",
    "for i in range(100, 1000):\n",
    "    n1 = i // 100\n",
    "    n2 = (i - n1 * 100) // 10\n",
    "    n3 = i % 10\n",
    "    if i == (n1**3 + n2**3 + n3**3):\n",
    "        print(\"The number\", i, \"meet the condition\")\n"
   ]
  },
  {
   "cell_type": "code",
   "execution_count": 31,
   "metadata": {},
   "outputs": [
    {
     "name": "stdout",
     "output_type": "stream",
     "text": [
      "101 is a prime number\n",
      "103 is a prime number\n",
      "107 is a prime number\n",
      "109 is a prime number\n",
      "113 is a prime number\n",
      "127 is a prime number\n",
      "131 is a prime number\n",
      "137 is a prime number\n",
      "139 is a prime number\n",
      "149 is a prime number\n",
      "151 is a prime number\n",
      "157 is a prime number\n",
      "163 is a prime number\n",
      "167 is a prime number\n",
      "173 is a prime number\n",
      "179 is a prime number\n",
      "181 is a prime number\n",
      "191 is a prime number\n",
      "193 is a prime number\n",
      "197 is a prime number\n",
      "199 is a prime number\n"
     ]
    }
   ],
   "source": [
    "# Find all prime numbers from 100 to 200\n",
    "\n",
    "def get_prime_number(x):\n",
    "    flag = 0\n",
    "    for i in range(2, x):\n",
    "        if x % i == 0:\n",
    "            flag = 1\n",
    "            break\n",
    "    if not flag == 0: return\n",
    "    print(x, \"is a prime number\")\n",
    "\n",
    "for i in range(100, 201):\n",
    "    get_prime_number(i)\n"
   ]
  },
  {
   "cell_type": "code",
   "execution_count": 35,
   "metadata": {},
   "outputs": [
    {
     "name": "stdout",
     "output_type": "stream",
     "text": [
      "14\n"
     ]
    }
   ],
   "source": [
    "# Give two integer numbers, find its greatest common divisor\n",
    "get_s = input(\"Input two integer number.\").split(sep=\" \")\n",
    "x = int(get_s[0])\n",
    "y = int(get_s[1])\n",
    "\n",
    "if x > y: x, y = y, x\n",
    "\n",
    "gcd = 0\n",
    "for i in range(1, x + 1):\n",
    "    if x % i == 0 and y % i == 0:\n",
    "        gcd = i\n",
    "\n",
    "print(gcd)"
   ]
  },
  {
   "cell_type": "markdown",
   "metadata": {},
   "source": [
    "The statement `pass` do nothing, is a invalid operation, like a placeholder.\n",
    "\n",
    "```python\n",
    "for i in range(5):\n",
    "    pass\n",
    "```\n",
    "\n",
    "`eval()` is used to execute a string expression and return the value.\n",
    "```python\n",
    "eval(\"print('Hello world')\")\n",
    "```"
   ]
  }
 ],
 "metadata": {
  "kernelspec": {
   "display_name": "Python 3",
   "language": "python",
   "name": "python3"
  },
  "language_info": {
   "codemirror_mode": {
    "name": "ipython",
    "version": 3
   },
   "file_extension": ".py",
   "mimetype": "text/x-python",
   "name": "python",
   "nbconvert_exporter": "python",
   "pygments_lexer": "ipython3",
   "version": "3.6.9"
  },
  "orig_nbformat": 4
 },
 "nbformat": 4,
 "nbformat_minor": 2
}
