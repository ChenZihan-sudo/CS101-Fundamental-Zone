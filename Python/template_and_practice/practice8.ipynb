{
 "cells": [
  {
   "cell_type": "markdown",
   "metadata": {},
   "source": [
    "14-4"
   ]
  },
  {
   "cell_type": "code",
   "execution_count": 1,
   "metadata": {},
   "outputs": [
    {
     "name": "stdout",
     "output_type": "stream",
     "text": [
      "['1', '2', '3', '4']\n"
     ]
    }
   ],
   "source": [
    "import re\n",
    "\n",
    "p = re.compile(r\"\\d+\")\n",
    "print(p.findall(\"o1n2m3k4\"))"
   ]
  },
  {
   "cell_type": "markdown",
   "metadata": {},
   "source": [
    "14-10"
   ]
  },
  {
   "cell_type": "code",
   "execution_count": 32,
   "metadata": {},
   "outputs": [
    {
     "name": "stdout",
     "output_type": "stream",
     "text": [
      "\"旺卡\"\n",
      "\"瞒天过海\"\n",
      "\"照明商店\"\n",
      "\"涉过愤怒的海\"\n",
      "\"爆裂点\"\n",
      "\"再见，李可乐\"\n",
      "\"河边的错误\"\n",
      "\"我本是高山\"\n",
      "\"拿破仑\"\n",
      "\"热搜\"\n",
      "\"蜡笔小新：新次元！超能力大决战\"\n",
      "\"饥饿游戏：鸣鸟与蛇之歌\"\n",
      "\"飞鸭向前冲\"\n",
      "\"刀尖\"\n",
      "\"星愿\"\n",
      "\"红猪\"\n",
      "\"无价之宝\"\n",
      "\"沉默笔录\"\n",
      "\"志愿军：雄兵出击\"\n",
      "\"拯救嫌疑人\"\n",
      "\"开国将帅授衔1955\"\n",
      "\"不要走散好不好\"\n",
      "\"傍晚向日葵\"\n",
      "\"仲肯\"\n",
      "\"疾速营救\"\n",
      "\"诡摇铃\"\n",
      "\"吾爱敦煌\"\n",
      "\"坚如磐石\"\n",
      "\"一个和四个\"\n",
      "\"开山人\"\n",
      "\"海王\"\n",
      "\"大话西游之大圣娶亲\"\n",
      "\"迷你特工队之汉堡大作战\"\n",
      "\"最后一夜\"\n",
      "\"珍·古道尔的传奇一生\"\n",
      "\"萨瓦流淌的方向\"\n",
      "\"千里送鹤\"\n",
      "\"红高粱\"\n",
      "\"汪汪队立大功大电影2：超能大冒险\"\n",
      "\"古庙迷杀\"\n",
      "\"大工斩玉\"\n",
      "\"安国夫人(京剧)\"\n",
      "\"站直啰，别趴下\"\n",
      "\"盲流\"\n",
      "\"盗马贼\"\n",
      "\"碧玉簪\"\n",
      "\"错位\"\n",
      "\"追鱼\"\n",
      "\"苏武牧羊\"\n",
      "\"党的女儿\"\n",
      "\"洛神\"\n",
      "\"狗神\"\n",
      "\"三大队\"\n",
      "\"月光武士\"\n",
      "\"陀螺女孩\"\n",
      "\"狭路“箱”逢\"\n",
      "\"逆境追凶\"\n",
      "\"名侦探柯南：黑铁的鱼影\"\n",
      "\"怒潮\"\n",
      "\"海王2：失落的王国\"\n",
      "\"爱乐之城\"\n"
     ]
    }
   ],
   "source": [
    "import requests\n",
    "import re\n",
    "\n",
    "\n",
    "def getHTMLText(url):\n",
    "    try:\n",
    "        headers = {\"User-Agent\": \"ZZZ\"}\n",
    "        r = requests.get(url, headers=headers)\n",
    "        return r.text\n",
    "    except:\n",
    "        print(\"Failed to get content.\")\n",
    "\n",
    "\n",
    "def parsePage(html):\n",
    "    try:\n",
    "        list = []\n",
    "        titles = re.findall(r\"data-title\\=\\\".*?\\\"\", html)\n",
    "\n",
    "        for i in range(len(titles)):\n",
    "            title = titles[i].split(\"=\")[1]\n",
    "            if title in list:\n",
    "                pass\n",
    "            else:\n",
    "                list.append(title)\n",
    "\n",
    "        return list\n",
    "    except:\n",
    "        print(\"Failed to find movie.\")\n",
    "\n",
    "\n",
    "if __name__ == \"__main__\":\n",
    "    url = \"https://movie.douban.com/cinema/nowplaying/shanghai/\"\n",
    "    html = getHTMLText(url)\n",
    "    movies = parsePage(html)\n",
    "    for i in movies:\n",
    "        print(i)"
   ]
  },
  {
   "cell_type": "markdown",
   "metadata": {},
   "source": [
    "15-2"
   ]
  },
  {
   "cell_type": "code",
   "execution_count": 8,
   "metadata": {},
   "outputs": [
    {
     "data": {
      "text/plain": [
       "[('Python', 'NNP'),\n",
       " ('is', 'VBZ'),\n",
       " ('a', 'DT'),\n",
       " ('high-level', 'JJ'),\n",
       " ('general-purpose', 'JJ'),\n",
       " ('programming', 'NN'),\n",
       " ('language', 'NN')]"
      ]
     },
     "execution_count": 8,
     "metadata": {},
     "output_type": "execute_result"
    }
   ],
   "source": [
    "from textblob import TextBlob\n",
    "\n",
    "text = \"Python is a high-level, general-purpose programming language.\"\n",
    "blob = TextBlob(text)\n",
    "blob.tags"
   ]
  },
  {
   "cell_type": "markdown",
   "metadata": {},
   "source": [
    "15-3"
   ]
  },
  {
   "cell_type": "code",
   "execution_count": 19,
   "metadata": {},
   "outputs": [
    {
     "data": {
      "text/plain": [
       "Sentiment(polarity=-0.55, subjectivity=0.95)"
      ]
     },
     "execution_count": 19,
     "metadata": {},
     "output_type": "execute_result"
    }
   ],
   "source": [
    "from textblob import TextBlob\n",
    "\n",
    "text = \"I feel sad today.\"\n",
    "blob = TextBlob(text)\n",
    "blob.sentences[0].sentiment"
   ]
  },
  {
   "cell_type": "markdown",
   "metadata": {},
   "source": [
    "15-9"
   ]
  },
  {
   "cell_type": "code",
   "execution_count": 8,
   "metadata": {},
   "outputs": [
    {
     "name": "stdout",
     "output_type": "stream",
     "text": [
      "[('今天', 't'), ('天气', 'n'), ('真', 'd'), ('好', 'a')]\n"
     ]
    }
   ],
   "source": [
    "from snownlp import SnowNLP\n",
    "\n",
    "s = SnowNLP(\"今天天气真好\")\n",
    "tags = [x for x in s.tags]\n",
    "print(tags)"
   ]
  },
  {
   "cell_type": "markdown",
   "metadata": {},
   "source": [
    "15-11"
   ]
  },
  {
   "cell_type": "code",
   "execution_count": 9,
   "metadata": {},
   "outputs": [
    {
     "name": "stdout",
     "output_type": "stream",
     "text": [
      "这部电影真心棒 0.9959750990466912\n",
      "这部电影烂到爆 0.2811611922705394\n"
     ]
    }
   ],
   "source": [
    "from snownlp import SnowNLP\n",
    "\n",
    "text1 = \"这部电影真心棒\"\n",
    "text2 = \"这部电影烂到爆\"\n",
    "s1 = SnowNLP(text1)\n",
    "s2 = SnowNLP(text2)\n",
    "print(text1, s1.sentiments)\n",
    "print(text2, s2.sentiments)"
   ]
  },
  {
   "cell_type": "markdown",
   "metadata": {},
   "source": [
    "15-17"
   ]
  },
  {
   "cell_type": "code",
   "execution_count": 30,
   "metadata": {},
   "outputs": [
    {
     "name": "stdout",
     "output_type": "stream",
     "text": [
      "文本内容: ['美国女排没输给中国女排,是输给了郎平', '为什么越来越多的人买 MPV,而放弃 SUV?跑一趟长途就知道了', '美国排球无缘世锦赛决赛,听听主教练的评价', '中国女排晋级世锦赛决赛,全面解析主教练郎平的执教艺术', '跑了长途才知道,SUV 和轿车之间的差距', '家用的轿车买什么好']\n",
      "分词结果: [['美国', '女排', '输给', '中国女排', '输给', '郎平'], ['买', 'MPV', 'SUV', '跑', '长途'], ['美国', '排球', '无缘', '世锦赛', '决赛', '主教练'], ['中国女排', '晋级', '世锦赛', '决赛', '主教练', '郎平', '执教', '艺术'], ['跑', '长途', 'SUV', '轿车', '差距'], ['家用', '轿车', '买']]\n",
      "(ID, Word frequency): [[(0, 1), (1, 1), (2, 1), (3, 2), (4, 1)], [(5, 1), (6, 1), (7, 1), (8, 1), (9, 1)], [(2, 1), (10, 1), (11, 1), (12, 1), (13, 1), (14, 1)], [(0, 1), (4, 1), (10, 1), (11, 1), (12, 1), (15, 1), (16, 1), (17, 1)], [(6, 1), (8, 1), (9, 1), (18, 1), (19, 1)], [(7, 1), (19, 1), (20, 1)]]\n",
      "(0, '0.084*\"输给\" + 0.084*\"中国女排\" + 0.083*\"郎平\" + 0.065*\"美国\"')\n",
      "(1, '0.080*\"SUV\" + 0.076*\"轿车\" + 0.076*\"长途\" + 0.075*\"跑\"')\n",
      "(array([[6.444686  , 0.5552995 ],\n",
      "       [0.55381817, 5.446169  ],\n",
      "       [2.5991333 , 4.400842  ],\n",
      "       [8.380511  , 0.6194638 ],\n",
      "       [0.54509926, 5.454888  ],\n",
      "       [0.56813157, 3.431859  ]], dtype=float32), None)\n",
      "主题0 推断值1.46\n",
      "主题1 推断值0.54\n"
     ]
    }
   ],
   "source": [
    "from gensim import corpora, models\n",
    "import jieba\n",
    "import jieba.posseg as jp\n",
    "\n",
    "texts = [\n",
    "    \"美国女排没输给中国女排,是输给了郎平\",\n",
    "    \"为什么越来越多的人买 MPV,而放弃 SUV?跑一趟长途就知道了\",\n",
    "    \"美国排球无缘世锦赛决赛,听听主教练的评价\",\n",
    "    \"中国女排晋级世锦赛决赛,全面解析主教练郎平的执教艺术\",\n",
    "    \"跑了长途才知道,SUV 和轿车之间的差距\",\n",
    "    \"家用的轿车买什么好\",\n",
    "]\n",
    "print(\"文本内容:\", texts, sep=\" \")\n",
    "\n",
    "flags = (\"n\", \"nr\", \"ns\", \"nt\", \"eng\", \"v\", \"d\")  # 词性\n",
    "stopwords = (\"没\", \"就\", \"知道\", \"是\", \"才\", \"听听\", \"坦言\", \"全面\", \"越来越\", \"评价\", \"放弃\", \"人\")\n",
    "words_ls = []\n",
    "for text in texts:\n",
    "    words = [\n",
    "        word.word\n",
    "        for word in jp.cut(text)\n",
    "        if word.flag in flags and word.word not in stopwords\n",
    "    ]\n",
    "    words_ls.append(words)\n",
    "\n",
    "print(\"分词结果:\", words_ls, sep=\" \")\n",
    "\n",
    "dictionary = corpora.Dictionary(words_ls)\n",
    "corpus = [dictionary.doc2bow(words) for words in words_ls]\n",
    "print(\"(ID, Word frequency):\", corpus, sep=\" \")\n",
    "\n",
    "lda = models.ldamodel.LdaModel(corpus=corpus, id2word=dictionary, num_topics=2)\n",
    "for topic in lda.print_topics(num_words=4):\n",
    "    print(topic)\n",
    "print(lda.inference(corpus))\n",
    "\n",
    "text5 = \"中国女排向三连冠发起冲击\"\n",
    "bow = dictionary.doc2bow(\n",
    "    [\n",
    "        word.word\n",
    "        for word in jp.cut(text5)\n",
    "        if word.flag in flags and word.word not in stopwords\n",
    "    ]\n",
    ")\n",
    "ndarray = lda.inference([bow])[0]\n",
    "for e, value in enumerate(ndarray[0]):\n",
    "    print(\"主题%d 推断值%.2f\" % (e, value))"
   ]
  },
  {
   "cell_type": "markdown",
   "metadata": {},
   "source": [
    "15-18"
   ]
  },
  {
   "cell_type": "code",
   "execution_count": 36,
   "metadata": {},
   "outputs": [
    {
     "name": "stdout",
     "output_type": "stream",
     "text": [
      "(97,)\n"
     ]
    },
    {
     "data": {
      "image/png": "[encoded data removed]",
      "text/plain": [
       "<Figure size 640x480 with 1 Axes>"
      ]
     },
     "metadata": {},
     "output_type": "display_data"
    }
   ],
   "source": [
    "import matplotlib.pyplot as plt\n",
    "import numpy as np\n",
    "from snownlp import SnowNLP\n",
    "\n",
    "source = open(\"./data/emotion_article_data.txt\", \"r\", encoding=\"utf-8\")\n",
    "\n",
    "line = source.readlines()\n",
    "\n",
    "emotion_sentence = []\n",
    "for i in line:\n",
    "    s = SnowNLP(i)\n",
    "    emotion_sentence.append(s.sentiments)\n",
    "\n",
    "x = np.array(range(len(emotion_sentence)))\n",
    "y = np.array(emotion_sentence)\n",
    "print(y.shape)\n",
    "plt.scatter(x, y)\n",
    "plt.show()"
   ]
  },
  {
   "cell_type": "markdown",
   "metadata": {},
   "source": [
    "15-19"
   ]
  },
  {
   "cell_type": "code",
   "execution_count": 57,
   "metadata": {},
   "outputs": [
    {
     "name": "stdout",
     "output_type": "stream",
     "text": [
      "Stopwords: ['、', '。', '〈', '〉', '《', '》', '一', '一个', '一些', '一何', '一切', '一则', '一方面', '一旦', '一来', '一样', '一种', '一般', '一转眼', '七', '万一', '三', '上', '上下', '下', '不', '不仅', '不但', '不光', '不单', '不只', '不外乎', '不如', '不妨', '不尽', '不尽然', '不得', '不怕', '不惟', '不成', '不拘', '不料', '不是', '不比', '不然', '不特', '不独', '不管', '不至于', '不若', '不论', '不过', '不问', '与', '与其', '与其说', '与否', '与此同时', '且', '且不说', '且说', '两者', '个', '个别', '中', '临', '为', '为了', '为什么', '为何', '为止', '为此', '为着', '乃', '乃至', '乃至于', '么', '之', '之一', '之所以', '之类', '乌乎', '乎', '乘', '九', '也', '也好', '也罢', '了', '二', '二来', '于', '于是', '于是乎', '云云', '云尔', '五', '些', '亦', '人', '人们', '人家', '什', '什么', '什么样', '今', '介于', '仍', '仍旧', '从', '从此', '从而', '他', '他人', '他们', '他们们', '以', '以上', '以为', '以便', '以免', '以及', '以故', '以期', '以来', '以至', '以至于', '以致', '们', '任', '任何', '任凭', '会', '似的', '但', '但凡', '但是', '何', '何以', '何况', '何处', '何时', '余外', '作为', '你', '你们', '使', '使得', '例如', '依', '依据', '依照', '便于', '俺', '俺们', '倘', '倘使', '倘或', '倘然', '倘若', '借', '借傥然', '假使', '假如', '假若', '做', '像', '儿', '先不先', '光', '光是', '全体', '全部', '八', '六', '兮', '共', '关于', '关于具体地说', '其', '其一', '其中', '其二', '其他', '其余', '其它', '其次', '具体地说', '具体说来', '兼之', '内', '再', '再其次', '再则', '再有', '再者', '再者说', '再说', '冒', '冲', '况且', '几', '几时', '凡', '凡是', '凭', '凭借', '出于', '出来', '分', '分别', '则', '则甚', '别', '别人', '别处', '别是', '别的', '别管', '别说', '到', '前后', '前此', '前者', '加之', '加以', '区', '即', '即令', '即使', '即便', '即如', '即或', '即若', '却', '去', '又', '又及', '及', '及其', '及至', '反之', '反而', '反过来', '反过来说', '受到', '另', '另一方面', '另外', '另悉', '只', '只当', '只怕', '只是', '只有', '只消', '只要', '只限', '叫', '叮咚', '可', '可以', '可是', '可见', '各', '各个', '各位', '各种', '各自', '同', '同时', '后', '后者', '向', '向使', '向着', '吓', '吗', '否则', '吧', '吧哒', '含', '吱', '呀', '呃', '呕', '呗', '呜', '呜呼', '呢', '呵', '呵呵', '呸', '呼哧', '咋', '和', '咚', '咦', '咧', '咱', '咱们', '咳', '哇', '哈', '哈哈', '哉', '哎', '哎呀', '哎哟', '哗', '哟', '哦', '哩', '哪', '哪个', '哪些', '哪儿', '哪天', '哪年', '哪怕', '哪样', '哪边', '哪里', '哼', '哼唷', '唉', '唯有', '啊', '啐', '啥', '啦', '啪达', '啷当', '喂', '喏', '喔唷', '喽', '嗡', '嗡嗡', '嗬', '嗯', '嗳', '嘎', '嘎登', '嘘', '嘛', '嘻', '嘿', '嘿嘿', '四', '因', '因为', '因了', '因此', '因着', '因而', '固然', '在', '在下', '在于', '地', '基于', '处在', '多', '多么', '多少', '大', '大家', '她', '她们', '好', '如', '如上', '如上所述', '如下', '如何', '如其', '如同', '如是', '如果', '如此', '如若', '始而', '孰料', '孰知', '宁', '宁可', '宁愿', '宁肯', '它', '它们', '对', '对于', '对待', '对方', '对比', '将', '小', '尔', '尔后', '尔尔', '尚且', '就', '就是', '就是了', '就是说', '就算', '就要', '尽', '尽管', '尽管如此', '岂但', '己', '已', '已矣', '巴', '巴巴', '年', '并', '并且', '庶乎', '庶几', '开外', '开始', '归', '归齐', '当', '当地', '当然', '当着', '彼', '彼时', '彼此', '往', '待', '很', '得', '得了', '怎', '怎么', '怎么办', '怎么样', '怎奈', '怎样', '总之', '总的来看', '总的来说', '总的说来', '总而言之', '恰恰相反', '您', '惟其', '慢说', '我', '我们', '或', '或则', '或是', '或曰', '或者', '截至', '所', '所以', '所在', '所幸', '所有', '才', '才能', '打', '打从', '把', '抑或', '拿', '按', '按照', '换句话说', '换言之', '据', '据此', '接着', '故', '故此', '故而', '旁人', '无', '无宁', '无论', '既', '既往', '既是', '既然', '日', '时', '时候', '是', '是以', '是的', '更', '曾', '替', '替代', '最', '月', '有', '有些', '有关', '有及', '有时', '有的', '望', '朝', '朝着', '本', '本人', '本地', '本着', '本身', '来', '来着', '来自', '来说', '极了', '果然', '果真', '某', '某个', '某些', '某某', '根据', '欤', '正值', '正如', '正巧', '正是', '此', '此地', '此处', '此外', '此时', '此次', '此间', '毋宁', '每', '每当', '比', '比及', '比如', '比方', '没奈何', '沿', '沿着', '漫说', '点', '焉', '然则', '然后', '然而', '照', '照着', '犹且', '犹自', '甚且', '甚么', '甚或', '甚而', '甚至', '甚至于', '用', '用来', '由', '由于', '由是', '由此', '由此可见', '的', '的确', '的话', '直到', '相对而言', '省得', '看', '眨眼', '着', '着呢', '矣', '矣乎', '矣哉', '离', '秒', '称', '竟而', '第', '等', '等到', '等等', '简言之', '管', '类如', '紧接着', '纵', '纵令', '纵使', '纵然', '经', '经过', '结果', '给', '继之', '继后', '继而', '综上所述', '罢了', '者', '而', '而且', '而况', '而后', '而外', '而已', '而是', '而言', '能', '能否', '腾', '自', '自个儿', '自从', '自各儿', '自后', '自家', '自己', '自打', '自身', '至', '至于', '至今', '至若', '致', '般的', '若', '若夫', '若是', '若果', '若非', '莫不然', '莫如', '莫若', '虽', '虽则', '虽然', '虽说', '被', '要', '要不', '要不是', '要不然', '要么', '要是', '譬喻', '譬如', '让', '许多', '论', '设使', '设或', '设若', '诚如', '诚然', '该', '说', '说来', '请', '诸', '诸位', '诸如', '谁', '谁人', '谁料', '谁知', '贼死', '赖以', '赶', '起', '起见', '趁', '趁着', '越是', '距', '跟', '较', '较之', '边', '过', '还', '还是', '还有', '还要', '这', '这一来', '这个', '这么', '这么些', '这么样', '这么点儿', '这些', '这会儿', '这儿', '这就是说', '这时', '这样', '这次', '这般', '这边', '这里', '进而', '连', '连同', '逐步', '通过', '遵循', '遵照', '那', '那个', '那么', '那么些', '那么样', '那些', '那会儿', '那儿', '那时', '那样', '那般', '那边', '那里', '都', '鄙人', '鉴于', '针对', '阿', '除', '除了', '除外', '除开', '除此之外', '除非', '随', '随后', '随时', '随着', '难道说', '零', '非', '非但', '非徒', '非特', '非独', '靠', '顺', '顺着', '首先', '︿', '！', '＃', '＄', '％', '＆', '（', '）', '＊', '＋', '，', '０', '１', '２', '３', '４', '５', '６', '７', '８', '９', '：', '；', '＜', '＞', '？', '＠', '［', '］', '｛', '｜', '｝', '～', '￥']\n",
      "{'一直': 10, '结局': 17, '动画': 20, '个人': 11, '之后': 8, '男主': 20, '不要': 12, '喜欢': 19, '情感': 15, '表达': 9, '城市': 13, '想要': 8, '期待': 8, '可能': 14, '之前': 12, '少女': 11, '音乐': 20, '应该': 11, '感动': 15, '节奏': 8, '警察': 8, '牺牲': 26, '生活': 10, '名字': 40, '逻辑': 14, '观众': 10, '爱情': 18, '成为': 9, '天气': 37, '地方': 9, '选择': 11, '故事': 43, '现在': 9, '拯救': 21, '本来': 9, '觉得': 21, '无法': 9, '没有': 34, '现实': 15, '有点': 9, '诚哥': 12, '看到': 14, '永远': 11, '电影': 32, '需要': 10, '结尾': 8, '知道': 10, '理解': 9, '人物': 15, '唯一': 8, '片子': 8, '自私': 9, '画面': 40, '男女': 11, '真的': 29, '一部': 15, '好看': 10, '问题': 9, '强行': 10, '世界': 100, '新海': 92, '毫无': 8, '整个': 8, '君名': 16, '设定': 8, '改变': 9, '已经': 11, '感觉': 12, '恋爱': 13, '完美': 8, '天空': 13, '完全': 11, '这种': 18, '意义': 8, '变成': 8, '剧情': 25, '这部': 18, '最后': 13, '东京': 31, '很多': 13, '全世界': 9, '画风': 8, '少年': 36, '人类': 10, '男孩': 9, '情绪': 8, '作品': 22, '浪漫': 9, '阳菜': 8, '日本': 20, '角色': 10, '叙事': 9, '感情': 8, '东西': 8}\n",
      "Good rate count:205\n",
      "Total rate count:228\n"
     ]
    },
    {
     "data": {
      "image/png": "[encoded data removed]",
      "text/plain": [
       "<Figure size 640x480 with 1 Axes>"
      ]
     },
     "metadata": {},
     "output_type": "display_data"
    }
   ],
   "source": [
    "import codecs\n",
    "import jieba.posseg as posseg\n",
    "\n",
    "import matplotlib.pyplot as plt\n",
    "import numpy as np\n",
    "from snownlp import SnowNLP\n",
    "import requests\n",
    "from lxml import etree\n",
    "\n",
    "import time\n",
    "\n",
    "stop_words = \"./data/stop_words.txt\"\n",
    "stop_words = codecs.open(stop_words, \"r\", encoding=\"utf8\").readlines()\n",
    "stop_words = [w.strip() for w in stop_words]\n",
    "print(\"Stopwords:\", stop_words, sep=\" \")\n",
    "stop_flag = [\"x\", \"c\", \"u\", \"d\", \"p\", \"t\", \"uj\", \"m\", \"f\", \"r\", \"ul\"]\n",
    "\n",
    "\n",
    "class FileAnalyseUtils:\n",
    "    def cut_stopwords(self, filename):\n",
    "        result = []\n",
    "        with open(filename, \"r\", encoding=\"UTF-8\") as f:\n",
    "            text = f.read()\n",
    "            words = posseg.cut(text)\n",
    "            for word, flag in words:\n",
    "                if word not in stop_words and len(word) > 1:\n",
    "                    result.append(word)\n",
    "        return result\n",
    "\n",
    "    def all_list(self, arr):\n",
    "        result = {}\n",
    "        for i in set(arr):\n",
    "            result[i] = arr.count(i)\n",
    "        return result\n",
    "\n",
    "    def sentiments_analyse(self, path):\n",
    "        f = open(path, \"r\", encoding=\"UTF-8\")\n",
    "        connects = f.readlines()\n",
    "        sentiments_list = []\n",
    "\n",
    "        sum = 0\n",
    "        for i in connects:\n",
    "            s = SnowNLP(i)\n",
    "            sentiments_list.append(s.sentiments)\n",
    "            if s.sentiments > 0.5:\n",
    "                sum += 1\n",
    "        print(\"Good rate count:%d\" % sum)\n",
    "        print(\"Total rate count:%d\" % len(sentiments_list))\n",
    "\n",
    "        plt.hist(sentiments_list, bins=np.arange(0, 1, 0.01), facecolor=\"g\")\n",
    "        plt.xlabel(\"Sentiments Probability\")\n",
    "        plt.ylabel(\"Quantity\")\n",
    "        plt.title(\"Analysis of Sentiments\")\n",
    "        plt.show()\n",
    "\n",
    "\n",
    "def get_and_save_comment_data(num, path):\n",
    "    comments = []\n",
    "    headers = {\n",
    "        \"User-Agent\": \"Mozilla/5.0 (Macintosh; Intel Mac OS X 10_15_7) AppleWebKit/537.36 (KHTML, like Gecko) Chrome/119.0.0.0 Safari/537.36\",\n",
    "    }\n",
    "    for i in range(num):\n",
    "        print(\"Get for page:{}\".format(i))\n",
    "        url = \"https://movie.douban.com/subject/30402296/comments?start={}&limit=20&status=P&sort=new_score\".format(\n",
    "            i * 20\n",
    "        )\n",
    "        r = requests.get(url, headers=headers)\n",
    "        dom = etree.HTML(r.text)\n",
    "        texts = dom.xpath(\"//*[@id='comments']/div/div[2]/p/span/text()\")\n",
    "        print(\"Page:{} contents:\".format(i), texts)\n",
    "        for i in texts:\n",
    "            comments.append(i)\n",
    "\n",
    "    with open(path, \"w\", encoding=\"utf-8\") as f:\n",
    "        for i in comments:\n",
    "            f.write(i + \"\\n\")\n",
    "    return comments\n",
    "\n",
    "\n",
    "if __name__ == \"__main__\":\n",
    "    # Get front 30 pages\n",
    "\n",
    "    path = \"./data/movie_comments.txt\"\n",
    "    # print(get_and_save_comment_data(10, path))\n",
    "\n",
    "    fileAnalyseUtils = FileAnalyseUtils()\n",
    "\n",
    "\n",
    "    word_list = fileAnalyseUtils.cut_stopwords(path)\n",
    "    word_count = fileAnalyseUtils.all_list(word_list)\n",
    "    word_count = {k: v for k, v in word_count.items() if v >= 8}\n",
    "    print(word_count)\n",
    "\n",
    "    fileAnalyseUtils.sentiments_analyse(path)"
   ]
  }
 ],
 "metadata": {
  "kernelspec": {
   "display_name": "NN",
   "language": "python",
   "name": "python3"
  },
  "language_info": {
   "codemirror_mode": {
    "name": "ipython",
    "version": 3
   },
   "file_extension": ".py",
   "mimetype": "text/x-python",
   "name": "python",
   "nbconvert_exporter": "python",
   "pygments_lexer": "ipython3",
   "version": "3.11.5"
  }
 },
 "nbformat": 4,
 "nbformat_minor": 2
}
