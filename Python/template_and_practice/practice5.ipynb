{
 "cells": [
  {
   "cell_type": "code",
   "execution_count": 5,
   "metadata": {},
   "outputs": [
    {
     "name": "stdout",
     "output_type": "stream",
     "text": [
      "df2:\n",
      "     0    1    2\n",
      "0  1.0  2.0  3.0\n",
      "\n",
      "df2:\n",
      "      0     1     2\n",
      "0   1.0   2.0   3.0\n",
      "1  10.0  10.0   2.0\n",
      "2  10.0  10.0  10.0\n",
      "3   8.0   8.0  10.0\n",
      "\n"
     ]
    }
   ],
   "source": [
    "from numpy import nan as NaN\n",
    "import pandas as pd\n",
    "\n",
    "df1 = pd.DataFrame([[1,2,3],[NaN,NaN,2],[NaN,NaN,NaN],[8,8,NaN]])\n",
    "df2 = df1.dropna()\n",
    "print(\"df2:\\n{}\\n\".format(df2))\n",
    "df2 = df1.fillna(10)\n",
    "print(\"df2:\\n{}\\n\".format(df2))"
   ]
  },
  {
   "cell_type": "code",
   "execution_count": 4,
   "metadata": {},
   "outputs": [
    {
     "name": "stdout",
     "output_type": "stream",
     "text": [
      "   gender\n",
      "0       1\n",
      "1       0\n",
      "2       1\n",
      "3       0\n",
      "4       1\n"
     ]
    }
   ],
   "source": [
    "from numpy import nan as NaN\n",
    "import pandas as pd\n",
    "\n",
    "df = pd.DataFrame({\n",
    "    'gender':['M','F','M','F','M']\n",
    "})\n",
    "\n",
    "df['gender'] = df['gender'].map({'M':1,'F':0})\n",
    "print(df)\n",
    "\n",
    "df1 = pd.DataFrame({\n",
    "    'A': ['A0', 'A1', 'A2', 'A3'],\n",
    "    'B': ['B0', 'B1', 'B2', 'B3'],\n",
    "    'key': ['K0', 'K1', 'K0', 'K1']\n",
    "})\n",
    "df2 = pd.DataFrame({\n",
    "    'C': ['C0', 'C1'],\n",
    "    'D': ['D0', 'D1']},\n",
    "    index=['K0', 'K1']\n",
    ")\n",
    "\n",
    "result = pd.merge(df1,df2,left_on='key', right_index=True)\n",
    "print(result)"
   ]
  },
  {
   "cell_type": "code",
   "execution_count": 10,
   "metadata": {},
   "outputs": [
    {
     "name": "stdout",
     "output_type": "stream",
     "text": [
      "1    C\n",
      "5    D\n",
      "3    E\n",
      "4    F\n",
      "5    G\n",
      "6    A\n",
      "7    B\n",
      "dtype: object\n",
      "1    Mon\n",
      "5    Tue\n",
      "3    Wed\n",
      "4    Thu\n",
      "5    Fri\n",
      "6    Sat\n",
      "7    Sun\n",
      "dtype: object\n"
     ]
    }
   ],
   "source": [
    "import pandas as pd\n",
    "noteSeries = pd.Series(['C','D','E','F','G','A','B'],index=[1,5,3,4,5,6,7])\n",
    "weekdaySeries = pd.Series([\"Mon\",\"Tue\",\"Wed\",\"Thu\",\"Fri\",\"Sat\",\"Sun\"],index=[1,5,3,4,5,6,7])\n",
    "print(noteSeries,weekdaySeries,sep='\\n')"
   ]
  },
  {
   "cell_type": "code",
   "execution_count": 13,
   "metadata": {},
   "outputs": [
    {
     "name": "stdout",
     "output_type": "stream",
     "text": [
      "[ 0  1  2  3  4  5  6  7  8  9 10 11 12 13 14]\n",
      "[0, 2, 4, 6, 8, 10, 12, 14, 16, 18, 20, 22, 24, 26, 28]\n"
     ]
    }
   ],
   "source": [
    "import numpy as np\n",
    "a = np.arange(15)\n",
    "print(a)\n",
    "print([a*2 for a in np.arange(15)])"
   ]
  }
 ],
 "metadata": {
  "kernelspec": {
   "display_name": "Python 3",
   "language": "python",
   "name": "python3"
  },
  "language_info": {
   "codemirror_mode": {
    "name": "ipython",
    "version": 3
   },
   "file_extension": ".py",
   "mimetype": "text/x-python",
   "name": "python",
   "nbconvert_exporter": "python",
   "pygments_lexer": "ipython3",
   "version": "3.12.0"
  }
 },
 "nbformat": 4,
 "nbformat_minor": 2
}
