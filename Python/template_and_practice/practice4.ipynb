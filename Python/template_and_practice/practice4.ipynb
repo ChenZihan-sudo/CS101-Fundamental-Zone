{
 "cells": [
  {
   "cell_type": "code",
   "execution_count": 8,
   "metadata": {},
   "outputs": [
    {
     "name": "stdout",
     "output_type": "stream",
     "text": [
      "mean line0: 2.0\n",
      "std  line0: 0.816496580927726\n",
      "mean line1: 5.0\n",
      "std  line1: 0.816496580927726\n",
      "mean line2: 8.0\n",
      "std  line2: 0.816496580927726\n",
      "cov: \n",
      " [[1. 1. 1.]\n",
      " [1. 1. 1.]\n",
      " [1. 1. 1.]]\n"
     ]
    }
   ],
   "source": [
    "import numpy as np\n",
    "\n",
    "arr = np.array([[1, 2, 3], [4, 5, 6], [7, 8, 9]])\n",
    "for i in range(0, int(arr.size / 3)):\n",
    "    print(\"mean line%d:\" % (i), np.mean(arr[i]))\n",
    "    print(\"std deviation line%d:\" % (i), np.std(arr[i]))\n",
    "print(\"cov: \\n\", np.cov(arr))\n"
   ]
  },
  {
   "cell_type": "code",
   "execution_count": 1,
   "metadata": {},
   "outputs": [
    {
     "data": {
      "text/html": [
       "<div>\n",
       "<style scoped>\n",
       "    .dataframe tbody tr th:only-of-type {\n",
       "        vertical-align: middle;\n",
       "    }\n",
       "\n",
       "    .dataframe tbody tr th {\n",
       "        vertical-align: top;\n",
       "    }\n",
       "\n",
       "    .dataframe thead th {\n",
       "        text-align: right;\n",
       "    }\n",
       "</style>\n",
       "<table border=\"1\" class=\"dataframe\">\n",
       "  <thead>\n",
       "    <tr style=\"text-align: right;\">\n",
       "      <th></th>\n",
       "      <th>salary</th>\n",
       "    </tr>\n",
       "  </thead>\n",
       "  <tbody>\n",
       "    <tr>\n",
       "      <th>AverageSalary</th>\n",
       "      <td>70000.0</td>\n",
       "    </tr>\n",
       "  </tbody>\n",
       "</table>\n",
       "</div>"
      ],
      "text/plain": [
       "                salary\n",
       "AverageSalary  70000.0"
      ]
     },
     "execution_count": 1,
     "metadata": {},
     "output_type": "execute_result"
    }
   ],
   "source": [
    "import numpy as np\n",
    "import pandas as pd\n",
    "\n",
    "# Series\n",
    "idx = ['Alice', 'Bob', 'Charlie', 'David', 'Eve']\n",
    "dk = {\n",
    "    'Alice': {\n",
    "        'age': 25,\n",
    "        'salary': 50000\n",
    "    },\n",
    "    'Bob': {\n",
    "        'age': 30,\n",
    "        'salary': 60000\n",
    "    },\n",
    "    'Charlie': {\n",
    "        'age': 35,\n",
    "        'salary': 70000\n",
    "    },\n",
    "    'David': {\n",
    "        'age': 40,\n",
    "        'salary': 80000\n",
    "    },\n",
    "    'Eve': {\n",
    "        'age': 45,\n",
    "        'salary': 90000\n",
    "    }\n",
    "}\n",
    "ser = pd.Series(data=dk, index=idx)\n",
    "\n",
    "# Dataframe\n",
    "dict = {\n",
    "    'age': [25, 30, 35, 40, 45],\n",
    "    'salary': [50000, 60000, 70000, 80000, 90000]\n",
    "}\n",
    "\n",
    "df = pd.DataFrame(dict, index=idx, columns=['age', 'salary'], dtype='int32')\n",
    "\n",
    "df[(df.age >= 30) & (df.age <= 40)].aggregate(AverageSalary=('salary', 'mean'))\n"
   ]
  },
  {
   "cell_type": "code",
   "execution_count": 2,
   "metadata": {},
   "outputs": [
    {
     "data": {
      "image/png": "[encoded data removed]",
      "text/plain": [
       "<Figure size 640x480 with 1 Axes>"
      ]
     },
     "metadata": {},
     "output_type": "display_data"
    }
   ],
   "source": [
    "import pandas as pd\n",
    "from matplotlib import pyplot as plt\n",
    "\n",
    "data_items = ['Month', 'Sales']\n",
    "\n",
    "df = pd.read_csv(\"./data/sales_data.csv\", usecols=data_items)\n",
    "plt.plot(df.Month, df.Sales)\n",
    "\n",
    "plt.xlabel('Month')\n",
    "plt.ylabel('Sales')\n",
    "\n",
    "plt.show()"
   ]
  }
 ],
 "metadata": {
  "kernelspec": {
   "display_name": "Python 3",
   "language": "python",
   "name": "python3"
  },
  "language_info": {
   "codemirror_mode": {
    "name": "ipython",
    "version": 3
   },
   "file_extension": ".py",
   "mimetype": "text/x-python",
   "name": "python",
   "nbconvert_exporter": "python",
   "pygments_lexer": "ipython3",
   "version": "3.9.6"
  },
  "orig_nbformat": 4
 },
 "nbformat": 4,
 "nbformat_minor": 2
}
