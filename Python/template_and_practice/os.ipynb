{
 "cells": [
  {
   "cell_type": "markdown",
   "metadata": {},
   "source": [
    "python中 os._exit() 和 sys.exit(), exit(0)和exit(1) 的用法和区别  \n",
    "https://blog.csdn.net/GeekLeee/article/details/52794826"
   ]
  },
  {
   "cell_type": "code",
   "execution_count": null,
   "metadata": {},
   "outputs": [],
   "source": [
    "# Python program to explain os.fork() method  \n",
    "  \n",
    "# importing os module  \n",
    "import os \n",
    "  \n",
    "  \n",
    "# Create a child process \n",
    "# using os.fork() method  \n",
    "pid = os.fork() \n",
    "  \n",
    "# pid greater than 0 represents \n",
    "# the parent process  \n",
    "if pid > 0 : \n",
    "    print(\"I am parent process:\") \n",
    "    print(\"Process ID:\", os.getpid()) \n",
    "    print(\"Child's process ID:\", pid) \n",
    "  \n",
    "# pid equal to 0 represents \n",
    "# the created child process \n",
    "else : \n",
    "    print(\"\\nI am child process:\") \n",
    "    print(\"Process ID:\", os.getpid()) \n",
    "    print(\"Parent's process ID:\", os.getppid()) \n",
    "  \n",
    "  \n",
    "# If any error occurred while \n",
    "# using os.fork() method \n",
    "# OSError will be raised "
   ]
  },
  {
   "cell_type": "markdown",
   "metadata": {},
   "source": [
    "signal  \n",
    "https://www.cnblogs.com/nisen/p/6071713.html  \n",
    "https://juejin.cn/post/6943619078221365261"
   ]
  },
  {
   "cell_type": "code",
   "execution_count": null,
   "metadata": {},
   "outputs": [
    {
     "data": {
      "text/plain": [
       "2"
      ]
     },
     "execution_count": 7,
     "metadata": {},
     "output_type": "execute_result"
    },
    {
     "ename": "",
     "evalue": "",
     "output_type": "error",
     "traceback": [
      "\u001b[1;31m在当前单元格或上一个单元格中执行代码时 Kernel 崩溃。请查看单元格中的代码，以确定故障的可能原因。有关详细信息，请单击 <a href='https://aka.ms/vscodeJupyterKernelCrash'>此处</a>。有关更多详细信息，请查看 Jupyter <a href='command:jupyter.viewOutput'>log</a>。"
     ]
    }
   ],
   "source": []
  }
 ],
 "metadata": {
  "kernelspec": {
   "display_name": "NN",
   "language": "python",
   "name": "python3"
  },
  "language_info": {
   "codemirror_mode": {
    "name": "ipython",
    "version": 3
   },
   "file_extension": ".py",
   "mimetype": "text/x-python",
   "name": "python",
   "nbconvert_exporter": "python",
   "pygments_lexer": "ipython3",
   "version": "3.11.5"
  }
 },
 "nbformat": 4,
 "nbformat_minor": 2
}
