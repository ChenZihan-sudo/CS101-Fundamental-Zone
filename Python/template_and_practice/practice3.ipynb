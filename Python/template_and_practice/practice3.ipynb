{
 "cells": [
  {
   "cell_type": "markdown",
   "metadata": {},
   "source": [
    "### Functions"
   ]
  },
  {
   "cell_type": "code",
   "execution_count": 1,
   "metadata": {},
   "outputs": [
    {
     "name": "stdout",
     "output_type": "stream",
     "text": [
      "23\n"
     ]
    }
   ],
   "source": [
    "def add(a, b):\n",
    "    c = a + b\n",
    "    return c\n",
    "\n",
    "x = add(3, 20)\n",
    "print(x)"
   ]
  },
  {
   "cell_type": "code",
   "execution_count": 2,
   "metadata": {},
   "outputs": [
    {
     "name": "stdout",
     "output_type": "stream",
     "text": [
      "30\n",
      "func1 x: 30\n",
      "func2 x: 100\n"
     ]
    }
   ],
   "source": [
    "# Global Variable\n",
    "x = 30\n",
    "def func1():\n",
    "    global x\n",
    "    print(\"func1 x:\", x)\n",
    "    x = 50\n",
    "\n",
    "def func2():\n",
    "    x = 100\n",
    "    print(\"func2 x:\", x)\n",
    "\n",
    "print(x)\n",
    "\n",
    "func1()\n",
    "func2()"
   ]
  },
  {
   "cell_type": "code",
   "execution_count": 3,
   "metadata": {},
   "outputs": [
    {
     "name": "stdout",
     "output_type": "stream",
     "text": [
      "200 Module hello world.\n",
      "1+2=3\n",
      "4+6=10\n"
     ]
    }
   ],
   "source": [
    "# import into global symbol list\n",
    "from module.module1 import module_test\n",
    "module_test(200)\n",
    "\n",
    "\n",
    "# import all\n",
    "import module.module1\n",
    "module.module1.num_sum(1,2)\n",
    "\n",
    "# import module and rename it\n",
    "import module.module1 as mod1\n",
    "mod1.num_sum(4,6)"
   ]
  },
  {
   "cell_type": "code",
   "execution_count": 4,
   "metadata": {},
   "outputs": [
    {
     "name": "stdout",
     "output_type": "stream",
     "text": [
      "120\n"
     ]
    }
   ],
   "source": [
    "# Use recursion to calculate factorial\n",
    "def fac_inner(n, acc):\n",
    "    if n == 0:\n",
    "        return acc\n",
    "    acc = acc * n\n",
    "    return fac_inner(n - 1, acc)\n",
    "\n",
    "def fac(n):\n",
    "    return fac_inner(n, 1)\n",
    "\n",
    "print(fac(5))"
   ]
  },
  {
   "cell_type": "code",
   "execution_count": 5,
   "metadata": {},
   "outputs": [
    {
     "name": "stdout",
     "output_type": "stream",
     "text": [
      "Step 1: Move A to C\n",
      "Step 2: Move A to B\n",
      "Step 3: Move C to B\n",
      "Step 4: Move A to C\n",
      "Step 5: Move B to C\n",
      "Step 6: Move A to B\n",
      "Step 7: Move C to B\n",
      "Step 8: Move A to C\n",
      "Step 9: Move B to C\n"
     ]
    }
   ],
   "source": [
    "# Tower of Hanoi\n",
    "step = 0\n",
    "\n",
    "def hanoi(n, x, y, z):\n",
    "    global step\n",
    "    if n == 1:\n",
    "        step += 1\n",
    "        move(step, x, z)\n",
    "    if n > 1:\n",
    "        hanoi(n - 1, x, z, y)\n",
    "        step += 1\n",
    "        move(step, x, z)\n",
    "        hanoi(1, y, x, z)\n",
    "\n",
    "def move(step, a, b):\n",
    "    print(\"Step %d: Move %c to %c\" % (step, a, b))\n",
    "\n",
    "hanoi(5, 'A', 'B', 'C')\n"
   ]
  },
  {
   "cell_type": "markdown",
   "metadata": {},
   "source": [
    "## Matplotlib"
   ]
  },
  {
   "cell_type": "markdown",
   "metadata": {},
   "source": [
    "### matplotlib.pyplot.plot\n",
    "\n",
    "https://matplotlib.org/stable/api/_as_gen/matplotlib.pyplot.plot.html#matplotlib.pyplot.plot\n",
    "\n",
    "**Line Styles**\n",
    "```bash\n",
    "# Example\n",
    "'b'    # blue markers with default shape\n",
    "'or'   # red circles\n",
    "'-g'   # green solid line\n",
    "'--'   # dashed line with default color\n",
    "'^k:'  # black triangle_up markers connected by a dotted line\n",
    "```\n"
   ]
  },
  {
   "cell_type": "code",
   "execution_count": 23,
   "metadata": {},
   "outputs": [
    {
     "data": {
      "image/png": "[encoded data removed]",
      "text/plain": [
       "<Figure size 432x288 with 1 Axes>"
      ]
     },
     "metadata": {
      "needs_background": "light"
     },
     "output_type": "display_data"
    }
   ],
   "source": [
    "import matplotlib.pyplot as plt\n",
    "import numpy as np\n",
    "plt.plot(1, 2, 'bo')  # plot x and y using blue circle markers\n",
    "plt.plot(1, 3, 'r+')\n",
    "plt.plot(3, 5, 'go', markersize=20)\n",
    "\n",
    "x = [1, 2, 3]\n",
    "y = np.array([[1, 4], [4, 5], [3, 7]])\n",
    "plt.plot(x,y) # Draw two line\n",
    "# Line 1: point (1,1) (2,4) (3,3) intersect it\n",
    "# Line 2: point (1,4) (2,5) (3,7) intersect it\n",
    "\n",
    "plt.show()"
   ]
  },
  {
   "cell_type": "markdown",
   "metadata": {},
   "source": [
    "### matplotlib.pyplot.scatter\n",
    "\n",
    "https://matplotlib.org/stable/api/_as_gen/matplotlib.pyplot.scatter.html#matplotlib-pyplot-scatter\n",
    "\n",
    "`matplotlib.pyplot.scatter(x, y, s=None, c=None, marker=None, cmap=None, norm=None, vmin=None, vmax=None, alpha=None, linewidths=None, *, edgecolors=None, plotnonfinite=False, data=None, **kwargs)`\n",
    "\n",
    "**x, y: Position**  \n",
    "**s: The marker size in points\\*\\*2 (typographic points are 1/72 in.). Default is rcParams['lines.markersize']\\*\\*2.**  \n",
    "**c: Color**\n",
    "**alpha: transparency** \n"
   ]
  },
  {
   "cell_type": "code",
   "execution_count": 24,
   "metadata": {},
   "outputs": [
    {
     "data": {
      "image/png": "[encoded data removed]",
      "text/plain": [
       "<Figure size 432x288 with 1 Axes>"
      ]
     },
     "metadata": {
      "needs_background": "light"
     },
     "output_type": "display_data"
    },
    {
     "data": {
      "image/png": "[encoded data removed]",
      "text/plain": [
       "<Figure size 432x288 with 1 Axes>"
      ]
     },
     "metadata": {
      "needs_background": "light"
     },
     "output_type": "display_data"
    }
   ],
   "source": [
    "import matplotlib.pyplot as plt1\n",
    "import matplotlib.pyplot as plt2\n",
    "import numpy as np\n",
    "\n",
    "plt1.scatter([10, 2, 8, 7, 4], [i for i in range(0, 5)])\n",
    "plt1.show()\n",
    "\n",
    "from datetime import datetime\n",
    "\n",
    "timestamp = datetime.timestamp(datetime.now())\n",
    "np.random.seed(int(timestamp))\n",
    "plt2.scatter([i for i in np.random.rand(100)],\n",
    "             [i for i in np.random.rand(100)],\n",
    "             c=np.random.rand(100),\n",
    "             s=(30 * np.random.rand(100))**2,\n",
    "             alpha=0.5)\n",
    "\n",
    "plt2.ylim([-0.5, 1])\n",
    "plt2.show()\n"
   ]
  },
  {
   "cell_type": "markdown",
   "metadata": {},
   "source": [
    "### matplotlib.pyplot.subplot \n",
    "### matplotlib.pyplot.add_gridspec \n",
    "### matplotlib.pyplot.add_subplot \n",
    "\n",
    "Add an Axes to the current figure or retrieve an existing Axes.  \n",
    "https://blog.csdn.net/ccc369639963/article/details/123003319  \n",
    "https://matplotlib.org/stable/api/_as_gen/matplotlib.pyplot.subplot.html#matplotlib-pyplot-subplot  \n",
    "\n"
   ]
  },
  {
   "cell_type": "code",
   "execution_count": 25,
   "metadata": {},
   "outputs": [
    {
     "data": {
      "image/png": "[encoded data removed]",
      "text/plain": [
       "<Figure size 432x288 with 3 Axes>"
      ]
     },
     "metadata": {
      "needs_background": "light"
     },
     "output_type": "display_data"
    },
    {
     "data": {
      "image/png": "[encoded data removed]",
      "text/plain": [
       "<Figure size 432x288 with 3 Axes>"
      ]
     },
     "metadata": {
      "needs_background": "light"
     },
     "output_type": "display_data"
    }
   ],
   "source": [
    "import matplotlib.pyplot as plt\n",
    "import numpy as np\n",
    "from datetime import datetime\n",
    "\n",
    "fig1 = plt.figure()\n",
    "fig1.suptitle('Figure')\n",
    "\n",
    "timestamp = datetime.timestamp(datetime.now())\n",
    "np.random.seed(int(timestamp))\n",
    "\n",
    "plt.subplot(211) # row column index\n",
    "plt.imshow(np.random.random((100, 100)))\n",
    "plt.subplot(212)\n",
    "plt.imshow(np.random.random((100, 100)))\n",
    "\n",
    "plt.subplots_adjust(left=0.5,bottom=0.5, right=0.9, top=0.9)\n",
    "cax = plt.axes((0.85, 0.1, 0.075, 0.8))\n",
    "plt.colorbar(cax=cax)\n",
    "\n",
    "plt.show()\n",
    "\n",
    "\n",
    "fig2 = plt.figure()\n",
    "gs = fig2.add_gridspec(2, 2)\n",
    "ax1 = fig2.add_subplot(gs[0, 0])\n",
    "ax2 = fig2.add_subplot(gs[1, 0])\n",
    "# spans two rows:\n",
    "ax3 = fig2.add_subplot(gs[0:, 1])\n"
   ]
  },
  {
   "cell_type": "markdown",
   "metadata": {},
   "source": [
    "## SciPy\n",
    "https://docs.scipy.org/doc/scipy/tutorial/index.html#user-guide"
   ]
  },
  {
   "cell_type": "code",
   "execution_count": 9,
   "metadata": {},
   "outputs": [
    {
     "name": "stdout",
     "output_type": "stream",
     "text": [
      "[[1 2]\n",
      " [3 4]]\n",
      "[[1 3]\n",
      " [2 4]]\n",
      "[[-2.   1. ]\n",
      " [ 1.5 -0.5]]\n",
      "[  0. -10.   8.]\n"
     ]
    }
   ],
   "source": [
    "import numpy as np\n",
    "import scipy.linalg as sp_li\n",
    "\n",
    "mat1 = np.matrix('[1,2;3,4]')\n",
    "print(mat1)\n",
    "print(mat1.T)\n",
    "print(mat1.I)\n",
    "\n",
    "mat2 = np.array([[1, 3, 5], [1, 4, 6], [2, 4, 7]])\n",
    "mat3 = np.array([10, 8, 16])\n",
    "res = sp_li.solve(mat2, mat3)\n",
    "print(res)\n"
   ]
  },
  {
   "cell_type": "markdown",
   "metadata": {},
   "source": [
    "### sparse matrix"
   ]
  },
  {
   "cell_type": "code",
   "execution_count": 10,
   "metadata": {},
   "outputs": [
    {
     "data": {
      "text/plain": [
       "array([[4, 0, 7, 0],\n",
       "       [0, 6, 0, 0],\n",
       "       [0, 0, 0, 0],\n",
       "       [0, 0, 0, 5]], dtype=int8)"
      ]
     },
     "execution_count": 10,
     "metadata": {},
     "output_type": "execute_result"
    }
   ],
   "source": [
    "import numpy as np\n",
    "from scipy.sparse import *\n",
    "\n",
    "row = np.array([0, 3, 1, 0])\n",
    "col = np.array([0, 3, 1, 2])\n",
    "data = np.array([4, 5, 6, 7])\n",
    "coo_matrix((data, (row, col)), shape=(4, 4), dtype=np.int8).toarray()\n"
   ]
  },
  {
   "cell_type": "markdown",
   "metadata": {},
   "source": [
    "### binomial distribution"
   ]
  },
  {
   "cell_type": "code",
   "execution_count": 22,
   "metadata": {},
   "outputs": [
    {
     "name": "stdout",
     "output_type": "stream",
     "text": [
      "[25. 26. 27. 28. 29. 30. 31. 32. 33. 34. 35. 36. 37. 38. 39. 40. 41. 42.\n",
      " 43. 44. 45. 46. 47. 48. 49. 50. 51. 52. 53. 54.]\n"
     ]
    },
    {
     "data": {
      "image/png": "[encoded data removed]",
      "text/plain": [
       "<Figure size 432x288 with 1 Axes>"
      ]
     },
     "metadata": {
      "needs_background": "light"
     },
     "output_type": "display_data"
    }
   ],
   "source": [
    "import numpy as np\n",
    "from scipy.stats import binom\n",
    "import matplotlib.pyplot as plt\n",
    "\n",
    "fig, ax = plt.subplots(1, 1)\n",
    "n, p = 100, 0.4\n",
    "mean, var, skew, kurt = binom.stats(n, p, moments='mvsk')\n",
    "\n",
    "x = np.arange(binom.ppf(0.001, n, p), # Possibility from 0.001 to 0.999\n",
    "              binom.ppf(0.999, n, p))\n",
    "print(x) \n",
    "ax.plot(x, binom.pmf(x, n, p))\n",
    "\n",
    "plt.show()"
   ]
  },
  {
   "cell_type": "markdown",
   "metadata": {},
   "source": [
    "## Numpy\n",
    "https://numpy.org/doc/stable/user/absolute_beginners.html"
   ]
  },
  {
   "cell_type": "markdown",
   "metadata": {},
   "source": [
    "### Numpy Arrays"
   ]
  },
  {
   "cell_type": "code",
   "execution_count": 26,
   "metadata": {},
   "outputs": [
    {
     "name": "stdout",
     "output_type": "stream",
     "text": [
      "[1 2 3 4] [ 127 -128 -127]\n"
     ]
    }
   ],
   "source": [
    "import numpy as np\n",
    "\n",
    "a1 = np.array([1,2,3,4])\n",
    "\n",
    "# use dtype to avoid overflow\n",
    "a2 = np.array([127, 128, 129], dtype=np.int8)\n",
    "\n",
    "print(a1,a2)"
   ]
  },
  {
   "cell_type": "markdown",
   "metadata": {},
   "source": [
    "`numpy.diag` can define either a square 2D array with given values along the diagonal or if given a 2D array returns a 1D array that is only the diagonal elements."
   ]
  },
  {
   "cell_type": "code",
   "execution_count": 29,
   "metadata": {},
   "outputs": [
    {
     "data": {
      "text/plain": [
       "array([1, 5, 9])"
      ]
     },
     "execution_count": 29,
     "metadata": {},
     "output_type": "execute_result"
    }
   ],
   "source": [
    "import numpy as np\n",
    "\n",
    "np.diag([1, 2, 3])\n",
    "np.diag([1, 2, 3], 1)\n",
    "\n",
    "a3 = np.array([[1, 2, 3], [4, 5, 6], [7, 8, 9]])\n",
    "np.diag(a3)"
   ]
  },
  {
   "cell_type": "markdown",
   "metadata": {},
   "source": [
    "`vander(x, n)` defines a Vandermonde matrix as a 2D NumPy array. Each column of the Vandermonde matrix is a decreasing power of the input 1D array or list or tuple, x where the highest polynomial order is n-1. This array creation routine is helpful in generating linear least squares models, as such:"
   ]
  },
  {
   "cell_type": "code",
   "execution_count": 35,
   "metadata": {},
   "outputs": [
    {
     "name": "stdout",
     "output_type": "stream",
     "text": [
      "[[ 1  1  1  1]\n",
      " [ 8  4  2  1]\n",
      " [27  9  3  1]\n",
      " [64 16  4  1]]\n",
      "\n",
      "[[   1    1    1    1    1]\n",
      " [  16    8    4    2    1]\n",
      " [  81   27    9    3    1]\n",
      " [ 256   64   16    4    1]\n",
      " [ 625  125   25    5    1]\n",
      " [1296  216   36    6    1]]\n"
     ]
    }
   ],
   "source": [
    "import numpy as np\n",
    "\n",
    "a4 = np.vander((1, 2, 3, 4), 4)\n",
    "a5 = np.vander((1, 2, 3, 4, 5, 6), 5)\n",
    "print(a4, a5, sep=\"\\n\\n\")\n"
   ]
  },
  {
   "cell_type": "code",
   "execution_count": 26,
   "metadata": {},
   "outputs": [
    {
     "name": "stdout",
     "output_type": "stream",
     "text": [
      "[[0. 0. 0.]\n",
      " [0. 0. 0.]]\n",
      "\n",
      "[[[1. 1. 1. 1.]\n",
      "  [1. 1. 1. 1.]\n",
      "  [1. 1. 1. 1.]]\n",
      "\n",
      " [[1. 1. 1. 1.]\n",
      "  [1. 1. 1. 1.]\n",
      "  [1. 1. 1. 1.]]]\n",
      "[1 2]\n",
      "[2 3 3 4 5 6]\n",
      "[2 3]\n",
      "[1 2 3 4]\n",
      "[2 3]\n",
      "[[1. 0.]\n",
      " [0. 1.]]\n"
     ]
    }
   ],
   "source": [
    "import numpy as np\n",
    "\n",
    "a6 = np.zeros((2, 3))\n",
    "a7 = np.ones((2, 3, 4))\n",
    "print(a6, a7, sep=\"\\n\\n\")\n",
    "\n",
    "a = np.array([1, 2, 3, 4, 5, 6])\n",
    "b = a[:2]\n",
    "print(b)\n",
    "b += 1  # b as a reference to a\n",
    "print(a, b, sep=\"\\n\")\n",
    "\n",
    "# make a copy of a\n",
    "a = np.array([1, 2, 3, 4])\n",
    "b = a[:2].copy()\n",
    "b += 1\n",
    "print(a, b, sep=\"\\n\")\n",
    "\n",
    "e = np.eye(2, 2) # Return a 2-D array with ones on the diagonal and zeros elsewhere.\n",
    "print(e)\n"
   ]
  },
  {
   "cell_type": "code",
   "execution_count": null,
   "metadata": {},
   "outputs": [],
   "source": [
    "# join 2-by-2 arrays as a 4-by-4 arrays\n",
    "A = np.ones((2, 2))\n",
    "B = np.eye(2, 2)\n",
    "C = np.zeros((2, 2))\n",
    "D = np.diag((-3, -4))\n",
    "block = np.block([[A, B], [C, D]])\n",
    "print(block)"
   ]
  },
  {
   "cell_type": "code",
   "execution_count": 62,
   "metadata": {},
   "outputs": [
    {
     "name": "stdout",
     "output_type": "stream",
     "text": [
      "[ 2.  3.  4.  5.  6.  7.  8.  9. 10. 11.]\n",
      "[   2.    4.    8.   16.   32.   64.  128.  256.  512. 1024.]\n"
     ]
    }
   ],
   "source": [
    "import numpy as np\n",
    "\n",
    "# Arithmetic sequence\n",
    "a = np.linspace(2.0, 11.0, num=10)\n",
    "print(a)\n",
    "\n",
    "# Geometric progression\n",
    "a = np.logspace(1.0, 10.0, num=10, base=2.0)\n",
    "\n",
    "print(a)"
   ]
  },
  {
   "cell_type": "markdown",
   "metadata": {},
   "source": [
    "## Pandas"
   ]
  },
  {
   "cell_type": "markdown",
   "metadata": {},
   "source": [
    "### Series\n",
    "Create series"
   ]
  },
  {
   "cell_type": "code",
   "execution_count": 3,
   "metadata": {},
   "outputs": [
    {
     "name": "stdout",
     "output_type": "stream",
     "text": [
      "a    0\n",
      "b    1\n",
      "c    2\n",
      "d    3\n",
      "e    4\n",
      "Name: ndarray, dtype: int64\n",
      "a    0.0\n",
      "b    1.0\n",
      "c    2.0\n",
      "d    3.0\n",
      "Name: dict_series, dtype: float64\n",
      "d1    1\n",
      "d2    2\n",
      "d3    3\n",
      "d4    4\n",
      "d5    5\n",
      "Name: list_series, dtype: uint32\n",
      "[1 2 3 4 5]\n",
      "Index(['d1', 'd2', 'd3', 'd4', 'd5'], dtype='object')\n",
      "(5,)\n",
      "1\n",
      "d4 is 4\n",
      "\n",
      "d4 is 100\n",
      "\n",
      "d1      1\n",
      "d2      2\n",
      "d3      3\n",
      "d4    100\n",
      "d5      5\n",
      "d6    200\n",
      "dtype: int64\n"
     ]
    }
   ],
   "source": [
    "import pandas as pd\n",
    "import numpy as np\n",
    "\n",
    "series = pd.Series(np.arange(5),\n",
    "                   index=['a', 'b', 'c', 'd', 'e'],\n",
    "                   name='ndarray')\n",
    "print(series)\n",
    "\n",
    "dict = {'a': 0, 'b': 1, 'c': 2, 'd': 3}\n",
    "dict_series = pd.Series(dict, dtype=\"Float64\", name=\"dict_series\")\n",
    "print(dict_series)\n",
    "\n",
    "list_data = [1, 2, 3, 4, 5]\n",
    "list_key = ['d1', 'd2', 'd3', 'd4', 'd5']\n",
    "list_series = pd.Series(list_data,\n",
    "                        list_key,\n",
    "                        dtype='uint32',\n",
    "                        name='list_series')\n",
    "print(list_series)\n",
    "\n",
    "print(list_series.values)\n",
    "print(list_series.index)\n",
    "print(list_series.shape)\n",
    "print(list_series.ndim)\n",
    "\n",
    "print(\"{a} is {l[3]}\\n\".format(a='d4', l=list_series))\n",
    "list_series['d4'] = 100\n",
    "print(\"{a} is {l[3]}\\n\".format(a='d4', l=list_series))"
   ]
  },
  {
   "cell_type": "code",
   "execution_count": 22,
   "metadata": {},
   "outputs": [
    {
     "name": "stdout",
     "output_type": "stream",
     "text": [
      "d1      1\n",
      "d2      2\n",
      "d3      3\n",
      "d4    100\n",
      "d5      5\n",
      "d6    200\n",
      "dtype: int64\n",
      "d1    101\n",
      "d2    102\n",
      "d3    103\n",
      "d4    200\n",
      "d5    105\n",
      "d6    300\n",
      "dtype: int64\n",
      "d2    102\n",
      "d3    103\n",
      "d4    200\n",
      "d5    105\n",
      "d6    300\n",
      "dtype: int64\n",
      "d3    103\n",
      "d4    200\n",
      "d5    105\n",
      "d6    300\n",
      "dtype: int64\n"
     ]
    }
   ],
   "source": [
    "#! Run last cell first\n",
    "l2 = list_series.append(pd.Series({'d6': 200}))\n",
    "print(l2)\n",
    "l2 = l2.add(100)\n",
    "print(l2)\n",
    "\n",
    "l2.drop('d1', inplace=True)\n",
    "print(l2)\n",
    "\n",
    "l2 = l2.drop('d2', inplace=False)\n",
    "print(l2)"
   ]
  },
  {
   "cell_type": "markdown",
   "metadata": {},
   "source": [
    "### DataFrame"
   ]
  },
  {
   "cell_type": "code",
   "execution_count": 40,
   "metadata": {},
   "outputs": [
    {
     "name": "stdout",
     "output_type": "stream",
     "text": [
      "    col1  col2\n",
      "k0     0     1\n",
      "k1     6     2\n",
      "k2     2   543\n",
      "k3   342   234\n",
      "k4     8    23\n",
      "k5    98   123\n",
      "k6     3   123\n",
      "    prefix_col1  prefix_col2\n",
      "k0          100          101\n",
      "k1          106          102\n",
      "k2          102          643\n",
      "k3          442          334\n",
      "k4          108          123\n",
      "k5          198          223\n",
      "k6          103          223\n"
     ]
    }
   ],
   "source": [
    "import pandas as pd\n",
    "\n",
    "dict1 = {\n",
    "    'col1': [0, 6, 2, 342, 8, 98, 3],\n",
    "    'col2': [1, 2, 543, 234, 23, 123, 123],\n",
    "    'col3': [0, 1, 2, 3, 4, 5, 6]\n",
    "}\n",
    "df = pd.DataFrame(dict1,\n",
    "                  index=['k0', 'k1', 'k2', 'k3', 'k4', 'k5', 'k6'],\n",
    "                  columns=['col1','col2'],\n",
    "                  dtype='int32')\n",
    "print(df)\n",
    "df = df.add_prefix('prefix_')\n",
    "df = df.add(100)\n",
    "print(df)"
   ]
  }
 ],
 "metadata": {
  "kernelspec": {
   "display_name": "Python 3",
   "language": "python",
   "name": "python3"
  },
  "language_info": {
   "codemirror_mode": {
    "name": "ipython",
    "version": 3
   },
   "file_extension": ".py",
   "mimetype": "text/x-python",
   "name": "python",
   "nbconvert_exporter": "python",
   "pygments_lexer": "ipython3",
   "version": "3.6.9"
  },
  "orig_nbformat": 4
 },
 "nbformat": 4,
 "nbformat_minor": 2
}
