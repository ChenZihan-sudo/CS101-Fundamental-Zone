{
 "cells": [
  {
   "cell_type": "markdown",
   "metadata": {},
   "source": [
    "描述符本质就是一个新式类,在这个新式类中,至少实现了__get__(),__set__(),__delete__()中的一个,这也被称为描述符协议。\n",
    "\n",
    "__get__():调用一个属性时,触发\n",
    "\n",
    "__set__():为一个属性赋值时,触发\n",
    "\n",
    "__delete__():采用del删除属性时,触发\n",
    "\n",
    "```python\n",
    "class Foo: #在python3中Foo是新式类,它实现了三种方法,这个类就被称作一个描述符\n",
    "    def __get__(self, instance, owner):\n",
    "        pass\n",
    "    def __set__(self, instance, value):\n",
    "        pass\n",
    "    def __delete__(self, instance):\n",
    "        pass\n",
    "```\n",
    "\n",
    "> https://zhuanlan.zhihu.com/p/356076165"
   ]
  },
  {
   "cell_type": "markdown",
   "metadata": {},
   "source": [
    "属性描述符\n",
    "> 描述符的作用是为另外一个类的类属性进行服务,另外一个类就是描述符的对象  \n",
    "> https://zhuanlan.zhihu.com/p/356076165  \n",
    "> https://blog.csdn.net/Leafage_M/article/details/54960432"
   ]
  },
  {
   "cell_type": "code",
   "execution_count": 114,
   "metadata": {},
   "outputs": [
    {
     "name": "stdout",
     "output_type": "stream",
     "text": [
      "Get value:  <__main__.Test object at 0x105d44350> <class '__main__.Test'>\n",
      "Set value:  <__main__.Test object at 0x105d44350> Other string\n",
      "Delete value:  <__main__.Test object at 0x105d44350>\n"
     ]
    }
   ],
   "source": [
    "class Foo:  # 实现了三种方法, 这个类就被称作一个描述符\n",
    "    foo_strings = None\n",
    "\n",
    "    def __get__(self, instance, owner):\n",
    "        print(\"Get value: \", instance, owner)\n",
    "        pass\n",
    "\n",
    "    def __set__(self, instance, value):\n",
    "        print(\"Set value: \", instance, value)\n",
    "        self.foo_strings = value\n",
    "        pass\n",
    "\n",
    "    def __delete__(self, instance):\n",
    "        print(\"Delete value: \", instance)\n",
    "        pass\n",
    "\n",
    "    def get_foo_strings(self):\n",
    "        print(self.foo_strings)\n",
    "\n",
    "\n",
    "class Test:\n",
    "    f2 = Foo()\n",
    "\n",
    "    def __init__(self, f1):\n",
    "        # print(\"In f:\", f1)\n",
    "        # self.f2 = f1\n",
    "        pass\n",
    "\n",
    "\n",
    "t = Test(\"Strings\")\n",
    "t.f2\n",
    "t.f2 = \"Other string\"\n",
    "del t.f2"
   ]
  },
  {
   "cell_type": "markdown",
   "metadata": {},
   "source": [
    "### 跨类代理"
   ]
  },
  {
   "cell_type": "code",
   "execution_count": 163,
   "metadata": {},
   "outputs": [
    {
     "name": "stdout",
     "output_type": "stream",
     "text": [
      "Set value:  <__main__.People object at 0x105d4bda0> name_input\n",
      "{'name': 'name_input', 'age': 18, 'salary': 330}\n",
      "Get value:  <__main__.People object at 0x105d4bda0> <class '__main__.People'> {'name': 'name_input', 'age': 18, 'salary': 330}\n",
      "Get value: name_input\n",
      "Set value:  <__main__.People object at 0x105d4bda0> changed_name\n",
      "Get value:  <__main__.People object at 0x105d4bda0> <class '__main__.People'> {'name': 'changed_name', 'age': 18, 'salary': 330}\n",
      "Get value: changed_name\n",
      "Delete value:  <__main__.People object at 0x105d4bda0>\n"
     ]
    }
   ],
   "source": [
    "class Typed:\n",
    "    proxy_key = None\n",
    "\n",
    "    def __init__(self, proxy_key):\n",
    "        self.proxy_key = proxy_key\n",
    "        pass\n",
    "\n",
    "    def __get__(self, instance, owner):\n",
    "        print(\"Get value: \", instance, owner, instance.__dict__)\n",
    "        return \"Get value: \" + instance.__dict__[self.proxy_key]\n",
    "\n",
    "    def __set__(self, instance, value):\n",
    "        print(\"Set value: \", instance, value)\n",
    "        if not isinstance(value, str):\n",
    "            raise TypeError(\"Not type of string\")\n",
    "        instance.__dict__[self.proxy_key] = value\n",
    "\n",
    "    def __delete__(self, instance):\n",
    "        print(\"Delete value: \", instance)\n",
    "        instance.__dict__.pop(self.proxy_key)\n",
    "\n",
    "\n",
    "class People:\n",
    "    name = Typed(\"name\")  # 代理类\n",
    "\n",
    "    def __init__(self, name, age, salary):\n",
    "        self.name = name\n",
    "        self.age = age\n",
    "        self.salary = salary\n",
    "\n",
    "\n",
    "p1 = People(\"name_input\", 18, 330)\n",
    "print(p1.__dict__)\n",
    "print(p1.name)\n",
    "p1.name = \"changed_name\"\n",
    "print(p1.name)\n",
    "del p1.name"
   ]
  },
  {
   "cell_type": "markdown",
   "metadata": {},
   "source": [
    "self用法 __private  \n",
    "_value 约定俗成的private  \n",
    "> https://blog.csdn.net/CLHugh/article/details/75000104"
   ]
  },
  {
   "cell_type": "markdown",
   "metadata": {},
   "source": [
    "*__call__* 对类进行call"
   ]
  },
  {
   "cell_type": "code",
   "execution_count": 9,
   "metadata": {},
   "outputs": [
    {
     "name": "stdout",
     "output_type": "stream",
     "text": [
      "assign  100\n",
      "Class call:  100\n",
      "100\n",
      "test_func 1\n"
     ]
    }
   ],
   "source": [
    "from typing import Any\n",
    "\n",
    "\n",
    "class class_test:\n",
    "    value = None\n",
    "    __private_v = 0\n",
    "\n",
    "    def __init__(self, value) -> None:\n",
    "        print(\"assign \", value)\n",
    "        self.value = value\n",
    "        pass\n",
    "\n",
    "    def __call__(self, *args: Any, **kwargs: Any) -> Any:\n",
    "        print(\"Class call: \", self.value)\n",
    "        pass\n",
    "\n",
    "    def test_func(self):\n",
    "        self.__private_v += 1\n",
    "        print(\"test_func\", self.__private_v)\n",
    "\n",
    "\n",
    "t_class = class_test(100)\n",
    "t_class()\n",
    "print(t_class.value)\n",
    "t_class.test_func()\n",
    "# t_class.__private_v # private value with \"__\""
   ]
  }
 ],
 "metadata": {
  "kernelspec": {
   "display_name": "Python 3",
   "language": "python",
   "name": "python3"
  },
  "language_info": {
   "codemirror_mode": {
    "name": "ipython",
    "version": 3
   },
   "file_extension": ".py",
   "mimetype": "text/x-python",
   "name": "python",
   "nbconvert_exporter": "python",
   "pygments_lexer": "ipython3",
   "version": "3.12.0"
  }
 },
 "nbformat": 4,
 "nbformat_minor": 2
}
