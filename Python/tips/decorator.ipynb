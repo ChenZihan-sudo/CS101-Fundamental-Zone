{
 "cells": [
  {
   "cell_type": "code",
   "execution_count": null,
   "metadata": {},
   "outputs": [],
   "source": [
    "# del 删除对数据的引用，删除的是变量\n",
    "a = 1\n",
    "b = a\n",
    "c = b\n",
    "del b  # 解除对1的引用\n",
    "del a  # 解除对1的引用\n",
    "print(c)"
   ]
  },
  {
   "cell_type": "code",
   "execution_count": 8,
   "metadata": {},
   "outputs": [
    {
     "name": "stdout",
     "output_type": "stream",
     "text": [
      "hi python\n",
      "hi python\n",
      "hi greet after delete hi() reference.\n"
     ]
    },
    {
     "ename": "NameError",
     "evalue": "name 'hi' is not defined",
     "output_type": "error",
     "traceback": [
      "\u001b[0;31m---------------------------------------------------------------------------\u001b[0m",
      "\u001b[0;31mNameError\u001b[0m                                 Traceback (most recent call last)",
      "\u001b[1;32m/Users/catcolia/Desktop/ChenZihan/Codes/CS101-Fundamental-Zone/Python/decorator.ipynb 单元格 1\u001b[0m line \u001b[0;36m1\n\u001b[1;32m      <a href='vscode-notebook-cell:/Users/catcolia/Desktop/ChenZihan/Codes/CS101-Fundamental-Zone/Python/decorator.ipynb#W0sZmlsZQ%3D%3D?line=8'>9</a>\u001b[0m \u001b[39mdel\u001b[39;00m hi\n\u001b[1;32m     <a href='vscode-notebook-cell:/Users/catcolia/Desktop/ChenZihan/Codes/CS101-Fundamental-Zone/Python/decorator.ipynb#W0sZmlsZQ%3D%3D?line=9'>10</a>\u001b[0m \u001b[39mprint\u001b[39m(greet(\u001b[39m'\u001b[39m\u001b[39mgreet after delete hi() reference.\u001b[39m\u001b[39m'\u001b[39m))\n\u001b[0;32m---> <a href='vscode-notebook-cell:/Users/catcolia/Desktop/ChenZihan/Codes/CS101-Fundamental-Zone/Python/decorator.ipynb#W0sZmlsZQ%3D%3D?line=10'>11</a>\u001b[0m \u001b[39mprint\u001b[39m(hi())\n",
      "\u001b[0;31mNameError\u001b[0m: name 'hi' is not defined"
     ]
    }
   ],
   "source": [
    "def hi(name=\"python\"):\n",
    "    return \"hi \" + name\n",
    "\n",
    "\n",
    "print(hi())\n",
    "\n",
    "greet = hi\n",
    "print(greet())\n",
    "\n",
    "del hi\n",
    "print(greet(\"greet after delete hi() reference.\"))\n",
    "print(hi())"
   ]
  },
  {
   "cell_type": "code",
   "execution_count": 6,
   "metadata": {},
   "outputs": [
    {
     "name": "stdout",
     "output_type": "stream",
     "text": [
      "now you are inside the hi() function\n"
     ]
    },
    {
     "data": {
      "text/plain": [
       "'now you are in the greet() function'"
      ]
     },
     "execution_count": 6,
     "metadata": {},
     "output_type": "execute_result"
    }
   ],
   "source": [
    "def hi(name=\"python\"):\n",
    "    print(\"now you are inside the hi() function\")\n",
    "\n",
    "    def i_greet():\n",
    "        return \"now you are in the greet() function\"\n",
    "\n",
    "    def i_welcome():\n",
    "        return \"now you are in the welcome() function\"\n",
    "\n",
    "    if name == \"python\":\n",
    "        return i_greet\n",
    "    else:\n",
    "        return i_welcome\n",
    "\n",
    "\n",
    "hi(name=\"python\")()"
   ]
  },
  {
   "cell_type": "code",
   "execution_count": 14,
   "metadata": {},
   "outputs": [
    {
     "name": "stdout",
     "output_type": "stream",
     "text": [
      "do something\n",
      "This is a function.\n"
     ]
    },
    {
     "data": {
      "text/plain": [
       "function"
      ]
     },
     "execution_count": 14,
     "metadata": {},
     "output_type": "execute_result"
    }
   ],
   "source": [
    "def func():\n",
    "    print(\"This is a function.\")\n",
    "\n",
    "\n",
    "def do_something(func):\n",
    "    print(\"do something\")\n",
    "    func()\n",
    "\n",
    "\n",
    "do_something(func)\n",
    "type(func)"
   ]
  },
  {
   "cell_type": "code",
   "execution_count": 17,
   "metadata": {},
   "outputs": [
    {
     "name": "stdout",
     "output_type": "stream",
     "text": [
      "I am the function which needs some decoration to remove my foul smell\n",
      "I am doing some boring work before executing a_func()\n",
      "I am the function which needs some decoration to remove my foul smell\n",
      "I am doing some boring work after executing a_func()\n"
     ]
    }
   ],
   "source": [
    "def a_new_decorator(a_func):\n",
    "    def wrapTheFunction():\n",
    "        print(\"I am doing some boring work before executing a_func()\")\n",
    "        a_func()\n",
    "        print(\"I am doing some boring work after executing a_func()\")\n",
    "\n",
    "    return wrapTheFunction\n",
    "\n",
    "\n",
    "def a_function_requiring_decoration():\n",
    "    print(\"I am the function which needs some decoration to remove my foul smell\")\n",
    "\n",
    "\n",
    "a_function_requiring_decoration()\n",
    "a_function_requiring_decoration = a_new_decorator(a_function_requiring_decoration)\n",
    "a_function_requiring_decoration()"
   ]
  },
  {
   "cell_type": "code",
   "execution_count": 7,
   "metadata": {},
   "outputs": [
    {
     "name": "stdout",
     "output_type": "stream",
     "text": [
      "I am doing some boring work before executing a_func()\n",
      "I am the function which needs some decoration to remove my foul smell\n",
      "I am doing some boring work after executing a_func()\n"
     ]
    },
    {
     "data": {
      "text/plain": [
       "'decorate_me'"
      ]
     },
     "execution_count": 7,
     "metadata": {},
     "output_type": "execute_result"
    }
   ],
   "source": [
    "from functools import wraps\n",
    "\n",
    "\n",
    "def decorator_here(a_func):\n",
    "    @wraps(a_func)\n",
    "    def wrapTheFunction():\n",
    "        print(\"I am doing some boring work before executing a_func()\")\n",
    "        a_func()\n",
    "        print(\"I am doing some boring work after executing a_func()\")\n",
    "\n",
    "    return wrapTheFunction\n",
    "\n",
    "\n",
    "@decorator_here\n",
    "def decorate_me():\n",
    "    print(\"I am the function which needs some decoration to remove my foul smell\")\n",
    "\n",
    "\n",
    "decorate_me()\n",
    "decorate_me.__name__"
   ]
  },
  {
   "cell_type": "code",
   "execution_count": 13,
   "metadata": {},
   "outputs": [
    {
     "name": "stdout",
     "output_type": "stream",
     "text": [
      "Function is running\n"
     ]
    },
    {
     "data": {
      "text/plain": [
       "'Function will not run'"
      ]
     },
     "execution_count": 13,
     "metadata": {},
     "output_type": "execute_result"
    }
   ],
   "source": [
    "from functools import wraps\n",
    "\n",
    "\n",
    "def decorator_name(f):\n",
    "    @wraps(f)\n",
    "    def decorated(*args, **kwargs):\n",
    "        if not can_run:\n",
    "            return \"Function will not run\"\n",
    "        return f(*args, **kwargs)\n",
    "\n",
    "    return decorated\n",
    "\n",
    "\n",
    "@decorator_name\n",
    "def func():\n",
    "    print(\"Function is running\")\n",
    "\n",
    "\n",
    "can_run = True\n",
    "func()\n",
    "can_run = False\n",
    "func()"
   ]
  },
  {
   "cell_type": "code",
   "execution_count": 39,
   "metadata": {},
   "outputs": [
    {
     "name": "stdout",
     "output_type": "stream",
     "text": [
      "1 2 (1, 2, 5, 1) {}\n",
      "logit: addition_calc was called\n",
      "calc 1\n"
     ]
    },
    {
     "data": {
      "text/plain": [
       "'This is the doc of addition_calc function'"
      ]
     },
     "execution_count": 39,
     "metadata": {},
     "output_type": "execute_result"
    }
   ],
   "source": [
    "from functools import wraps\n",
    "\n",
    "\n",
    "def logit(func):\n",
    "    @wraps(func)\n",
    "    def with_logging(*args, **kwargs):\n",
    "        print(args[0], args[1], args, kwargs)\n",
    "        print(\"logit: \" + func.__name__ + \" was called\")\n",
    "        return func(*args, **kwargs)\n",
    "\n",
    "    return with_logging\n",
    "\n",
    "\n",
    "@logit \n",
    "# addition_calc = logit(addition_calc) => with_logging\n",
    "# addition_calc(*args, **kwargs) => with_logging(*args, **kwargs) {\n",
    "# do_something; return addition_calc(*args, **kwargs) }\n",
    "def addition_calc(x, y, z, calc=1):\n",
    "    \"\"\"This is the doc of addition_calc function\"\"\"\n",
    "    print(\"calc\", calc)\n",
    "    return x + y + z\n",
    "\n",
    "\n",
    "addition_calc(1, 2, 5, 1) \n",
    "addition_calc.__doc__"
   ]
  },
  {
   "cell_type": "markdown",
   "metadata": {},
   "source": [
    "### 带参数的Decorator"
   ]
  },
  {
   "cell_type": "code",
   "execution_count": 44,
   "metadata": {},
   "outputs": [
    {
     "name": "stdout",
     "output_type": "stream",
     "text": [
      "() {}\n",
      "logit: myfunc was called\n",
      "write to out.log\n",
      "() {}\n",
      "logit: func2 was called\n",
      "write to func2.log\n"
     ]
    }
   ],
   "source": [
    "from functools import wraps\n",
    "\n",
    "# 嵌套函数\n",
    "def logit(logfile=\"out.log\"):\n",
    "    def logging_decorator(func):\n",
    "        @wraps(func)\n",
    "        def with_logging(*args, **kwargs):\n",
    "            print(args, kwargs)\n",
    "            print(\"logit: \" + func.__name__ + \" was called\")\n",
    "            print(\"write to \" + logfile)\n",
    "            return func(*args, **kwargs)\n",
    "\n",
    "        return with_logging\n",
    "\n",
    "    return logging_decorator\n",
    "\n",
    "\n",
    "@logit()\n",
    "def myfunc():\n",
    "    pass\n",
    "\n",
    "\n",
    "myfunc()\n",
    "\n",
    "\n",
    "@logit(logfile=\"func2.log\")\n",
    "# func2 = logit(logfile=\"func2.log\")(func2)\n",
    "# func2 = logging_decorator(func2)\n",
    "# func2 = with_logging Store:{func}\n",
    "# func2(*args, **kwargs) = with_logging[Store:{func}](*args, **kwargs)\n",
    "def func2():\n",
    "    pass\n",
    "\n",
    "\n",
    "func2()"
   ]
  },
  {
   "cell_type": "markdown",
   "metadata": {},
   "source": [
    "### 装饰器类"
   ]
  },
  {
   "cell_type": "code",
   "execution_count": 1,
   "metadata": {},
   "outputs": [
    {
     "name": "stdout",
     "output_type": "stream",
     "text": [
      "() {}\n",
      "logit: reDecorate was called\n",
      "write to test.log\n",
      "() {}\n",
      "logit: reDecorate2 was called\n",
      "write to out.log\n"
     ]
    }
   ],
   "source": [
    "from functools import wraps\n",
    "\n",
    "\n",
    "# __init__方法的第一参数永远是self\n",
    "# object 默认代指无基类继承\n",
    "class logit(object):\n",
    "    def __init__(self, logfile=\"out.log\"):\n",
    "        self.logfile = logfile\n",
    "\n",
    "    def __call__(self, func):\n",
    "        @wraps(func)\n",
    "        def with_logging(*args, **kwargs):\n",
    "            print(args, kwargs)\n",
    "            print(\"logit: \" + func.__name__ + \" was called\")\n",
    "            print(\"write to \" + self.logfile)\n",
    "            return func(*args, **kwargs)\n",
    "\n",
    "        return with_logging\n",
    "\n",
    "\n",
    "@logit(\"test.log\")\n",
    "# reDecorate = logit[Store: logfile](object)(reDecorate)\n",
    "# reDecorate = with_logging[Store: func]\n",
    "# reDecorate(*args, **kwargs) = with_logging[Store: func](*args, **kwargs)\n",
    "# -> [Return: _] with_logging(*args, **kwargs)\n",
    "def reDecorate(a1, a2, a3):\n",
    "    return a1 + a2 + a3\n",
    "\n",
    "\n",
    "@logit()\n",
    "def reDecorate2():\n",
    "    pass\n",
    "\n",
    "\n",
    "reDecorate()\n",
    "reDecorate2()"
   ]
  },
  {
   "cell_type": "code",
   "execution_count": 50,
   "metadata": {},
   "outputs": [
    {
     "name": "stdout",
     "output_type": "stream",
     "text": [
      "self in Test: <__main__.Test object at 0x104965f70>\n",
      "self in Desc: <__main__.Desc object at 0x1048ed610> \n",
      "<__main__.Desc object at 0x1048ed610> <__main__.Test object at 0x104965f70> <class '__main__.Test'>\n"
     ]
    }
   ],
   "source": [
    "class Desc:\n",
    "    def __get__(self, ins, cls):\n",
    "        print('self in Desc: %s ' % self )\n",
    "        print(self, ins, cls)\n",
    "    pass\n",
    "class Test:\n",
    "    x = Desc()\n",
    "    def prt(self):\n",
    "        print('self in Test: %s' % self)\n",
    "t = Test()\n",
    "t.prt()\n",
    "t.x\n"
   ]
  }
 ],
 "metadata": {
  "kernelspec": {
   "display_name": "Python 3",
   "language": "python",
   "name": "python3"
  },
  "language_info": {
   "codemirror_mode": {
    "name": "ipython",
    "version": 3
   },
   "file_extension": ".py",
   "mimetype": "text/x-python",
   "name": "python",
   "nbconvert_exporter": "python",
   "pygments_lexer": "ipython3",
   "version": "3.12.0"
  }
 },
 "nbformat": 4,
 "nbformat_minor": 2
}
