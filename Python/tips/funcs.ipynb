{
 "cells": [
  {
   "cell_type": "code",
   "execution_count": 10,
   "metadata": {},
   "outputs": [
    {
     "name": "stdout",
     "output_type": "stream",
     "text": [
      "Function of  __main__\n",
      "{'a': <class 'int'>, 'b': <class 'int'>, 'return': <class 'int'>}\n",
      "demo\n",
      "Docs of demo\n",
      "<code object demo at 0x110c67d20, file \"/var/folders/ly/1nz92nfj1jq23yd3gk5cxch00000gn/T/ipykernel_10931/3300282706.py\", line 3>\n"
     ]
    }
   ],
   "source": [
    "# __annotations__ 变量注解\n",
    "# annotations 类型错误无影响\n",
    "def demo(a: int, b: int) -> int:\n",
    "    \"\"\"Docs of demo\"\"\"\n",
    "    print(\"Function of \", __name__)\n",
    "    return a + b\n",
    "\n",
    "demo(5, 4)\n",
    "print(demo.__annotations__)\n",
    "print(demo.__name__)\n",
    "print(demo.__doc__)\n",
    "print(demo.__code__)"
   ]
  },
  {
   "cell_type": "markdown",
   "metadata": {},
   "source": [
    "`*args` 和 `**kwargs` -> Splat 运算符\n",
    "> https://blog.csdn.net/GODSuner/article/details/117961990"
   ]
  },
  {
   "cell_type": "code",
   "execution_count": 11,
   "metadata": {},
   "outputs": [
    {
     "name": "stdout",
     "output_type": "stream",
     "text": [
      "[1, 2, 3, 4, 5, 6, 7]\n"
     ]
    }
   ],
   "source": [
    "a = [1, 2, 3, 4]\n",
    "b = [*a, 5, 6, 7]\n",
    "print(b)"
   ]
  },
  {
   "cell_type": "code",
   "execution_count": 15,
   "metadata": {},
   "outputs": [
    {
     "name": "stdout",
     "output_type": "stream",
     "text": [
      "(2, 3, 4, 5)\n",
      "Header: 1\n",
      "variables: 2\n",
      "variables: 3\n",
      "variables: 4\n",
      "variables: 5\n"
     ]
    }
   ],
   "source": [
    "# 不定长参数,可变参数\n",
    "def varibale_param_func(a, *args):\n",
    "    print(args)  # -> tuple\n",
    "    print(\"Header:\", a)\n",
    "    for i in args:\n",
    "        print(\"variables:\", i)\n",
    "\n",
    "\n",
    "varibale_param_func(1, 2, 3, 4, 5)\n",
    "\n",
    "\n",
    "def varibale_param_func1(a, *args, b):\n",
    "    "
   ]
  }
 ],
 "metadata": {
  "kernelspec": {
   "display_name": "Python 3",
   "language": "python",
   "name": "python3"
  },
  "language_info": {
   "codemirror_mode": {
    "name": "ipython",
    "version": 3
   },
   "file_extension": ".py",
   "mimetype": "text/x-python",
   "name": "python",
   "nbconvert_exporter": "python",
   "pygments_lexer": "ipython3",
   "version": "3.12.0"
  }
 },
 "nbformat": 4,
 "nbformat_minor": 2
}
